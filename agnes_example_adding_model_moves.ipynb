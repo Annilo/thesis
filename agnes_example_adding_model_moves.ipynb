{
 "cells": [
  {
   "cell_type": "code",
   "execution_count": 0,
   "metadata": {
    "application/vnd.databricks.v1+cell": {
     "cellMetadata": {
      "byteLimit": 2048000,
      "rowLimit": 10000
     },
     "inputWidgets": {},
     "nuid": "e3ad350b-224b-4bfa-94bf-c98a391060e2",
     "showTitle": false,
     "title": ""
    }
   },
   "outputs": [
    {
     "output_type": "stream",
     "name": "stdout",
     "output_type": "stream",
     "text": [
      "Out[2]: True"
     ]
    }
   ],
   "source": [
    "dbutils.fs.rm(\"dbfs:/user/hive/warehouse/iws_state\", True)"
   ]
  },
  {
   "cell_type": "code",
   "execution_count": 0,
   "metadata": {
    "application/vnd.databricks.v1+cell": {
     "cellMetadata": {
      "byteLimit": 2048000,
      "implicitDf": true,
      "rowLimit": 10000
     },
     "inputWidgets": {},
     "nuid": "d72cb05f-6655-4be4-97e7-3f07f5d8248f",
     "showTitle": false,
     "title": ""
    }
   },
   "outputs": [
    {
     "output_type": "display_data",
     "data": {
      "text/html": [
       "<style scoped>\n",
       "  .table-result-container {\n",
       "    max-height: 300px;\n",
       "    overflow: auto;\n",
       "  }\n",
       "  table, th, td {\n",
       "    border: 1px solid black;\n",
       "    border-collapse: collapse;\n",
       "  }\n",
       "  th, td {\n",
       "    padding: 5px;\n",
       "  }\n",
       "  th {\n",
       "    text-align: left;\n",
       "  }\n",
       "</style><div class='table-result-container'><table class='table-result'><thead style='background-color: white'><tr></tr></thead><tbody></tbody></table></div>"
      ]
     },
     "metadata": {
      "application/vnd.databricks.v1+output": {
       "addedWidgets": {},
       "aggData": [],
       "aggError": "",
       "aggOverflow": false,
       "aggSchema": [],
       "aggSeriesLimitReached": false,
       "aggType": "",
       "arguments": {},
       "columnCustomDisplayInfos": {},
       "data": [],
       "datasetInfos": [],
       "dbfsResultPath": null,
       "isJsonSchema": true,
       "metadata": {},
       "overflow": false,
       "plotOptions": {
        "customPlotOptions": {},
        "displayType": "table",
        "pivotAggregation": null,
        "pivotColumns": null,
        "xColumns": null,
        "yColumns": null
       },
       "removedWidgets": [],
       "schema": [],
       "type": "table"
      }
     },
     "output_type": "display_data"
    }
   ],
   "source": [
    "%sql\n",
    "CREATE OR REPLACE TABLE iws_model AS\n",
    "SELECT \"root\" AS id, \"-\" AS label, array(\"A\") AS children_labels, array(\"root-A\") AS children_id, \n",
    "    array(struct(\"root-A\" AS node_id, \"A\" AS label,1 as level), struct(\"root-A-B\" AS node_id, \"B\" AS label,2 as level), struct(\"root-A-B-C\" AS node_id, \"C\" AS label,3 as level), struct(\"root-A-B-D\" AS node_id, \"D\" AS label,3 as level)) AS nth_level_children\n",
    "UNION ALL \n",
    "SELECT \"root-A\", \"A\", array(\"B\"), array(\"root-A-B\"), \n",
    "    array(struct(\"root-A-B\" AS node_id, \"B\" AS label,2 as level), struct(\"root-A-B-C\" AS node_id, \"C\" AS label,3 as level), struct(\"root-A-B-D\" AS node_id, \"D\" AS label,3 as level), struct(\"root-A-B-D-C\" AS node_id, \"C\" AS label,4 as level))\n",
    "UNION ALL \n",
    "SELECT \"root-A-B\", \"B\", array(\"C\", \"D\"), array(\"root-A-B-C\", \"root-A-B-D\"), \n",
    "    array(struct(\"root-A-B-C\" AS node_id, \"C\" AS label,3 as level), struct(\"root-A-B-D\" AS node_id, \"D\" AS label,3 as level), struct(\"root-A-B-D-C\" AS node_id, \"C\" AS label,4 as level), struct(\"root-A-B-D-C-D\" AS node_id, \"D\" AS label,5 as level), struct(\"root-A-B-D-C-C\" AS node_id, \"C\" AS label,5 as level))\n",
    "UNION ALL \n",
    "SELECT \"root-A-B-C\", \"C\", array(), array(), array()\n",
    "UNION ALL \n",
    "SELECT \"root-A-B-D\", \"D\", array(\"C\"), array(\"root-A-B-D-C\"), \n",
    "    array(struct(\"root-A-B-D-C\" AS node_id, \"C\" AS label,4 as level), struct(\"root-A-B-D-C-D\" AS node_id, \"D\" AS label,5 as level), struct(\"root-A-B-D-C-C\" AS node_id, \"C\" AS label,5 as level))\n",
    "UNION ALL \n",
    "SELECT \"root-A-B-D-C\", \"C\", array(\"D\", \"C\"), array(\"root-A-B-D-C-D\", \"root-A-B-D-C-C\"), \n",
    "    array(struct(\"root-A-B-D-C-D\" AS node_id, \"D\" AS label,5 as level), struct(\"root-A-B-D-C-C\" AS node_id, \"C\" AS label,5 as level))\n",
    "UNION ALL \n",
    "SELECT \"root-A-B-D-C-D\", \"D\", array(), array(), array()\n",
    "UNION ALL \n",
    "SELECT \"root-A-B-D-C-C\", \"C\", array(), array(), array();\n",
    "\n",
    "CREATE OR REPLACE TABLE iws_event \n",
    "SELECT \"A\" event, CURRENT_TIMESTAMP() ts, \"trace_id_0\" trace_id;\n",
    "\n",
    "CREATE OR REPLACE TABLE iws_state\n",
    "(trace_id STRING, ts TIMESTAMP, current_node STRING,current_id STRING,cost_of_alignment INTEGER,trace STRING,execution_sequence STRING,event_level INTEGER,current_event_level INTEGER,current_node_level INTEGER);\n",
    "--event level to filter out the latest alignments later\n"
   ]
  },
  {
   "cell_type": "code",
   "execution_count": 0,
   "metadata": {
    "application/vnd.databricks.v1+cell": {
     "cellMetadata": {
      "byteLimit": 2048000,
      "implicitDf": true,
      "rowLimit": 10000
     },
     "inputWidgets": {},
     "nuid": "1c98a794-b5af-43fb-be1c-193203e70b83",
     "showTitle": false,
     "title": ""
    },
    "jupyter": {
     "outputs_hidden": true,
     "source_hidden": true
    }
   },
   "outputs": [
    {
     "output_type": "display_data",
     "data": {
      "text/html": [
       "<style scoped>\n",
       "  .table-result-container {\n",
       "    max-height: 300px;\n",
       "    overflow: auto;\n",
       "  }\n",
       "  table, th, td {\n",
       "    border: 1px solid black;\n",
       "    border-collapse: collapse;\n",
       "  }\n",
       "  th, td {\n",
       "    padding: 5px;\n",
       "  }\n",
       "  th {\n",
       "    text-align: left;\n",
       "  }\n",
       "</style><div class='table-result-container'><table class='table-result'><thead style='background-color: white'><tr><th>nodes_with_label_C</th></tr></thead><tbody><tr><td>List(root-A-B-D-C, >>>>>>-event)</td></tr><tr><td>List(root-A-B-D-C-C, >>>>-event)</td></tr><tr><td>List(root-A-B-C, >>>>>>>>-event)</td></tr><tr><td>List(root-A-B-D-C, >>>>>>-event)</td></tr><tr><td>List(root-A-B-D-C-C, >>>>-event)</td></tr><tr><td>List(root-A-B-D-C-C, >>>>-event)</td></tr><tr><td>List(root-A-B-C, >>>>>>>>-event)</td></tr><tr><td>List(root-A-B-D-C, >>>>>>-event)</td></tr><tr><td>List(root-A-B-C, >>>>>>>>-event)</td></tr></tbody></table></div>"
      ]
     },
     "metadata": {
      "application/vnd.databricks.v1+output": {
       "addedWidgets": {},
       "aggData": [],
       "aggError": "",
       "aggOverflow": false,
       "aggSchema": [],
       "aggSeriesLimitReached": false,
       "aggType": "",
       "arguments": {},
       "columnCustomDisplayInfos": {},
       "data": [
        [
         [
          "root-A-B-D-C",
          ">>>>>>-event"
         ]
        ],
        [
         [
          "root-A-B-D-C-C",
          ">>>>-event"
         ]
        ],
        [
         [
          "root-A-B-C",
          ">>>>>>>>-event"
         ]
        ],
        [
         [
          "root-A-B-D-C",
          ">>>>>>-event"
         ]
        ],
        [
         [
          "root-A-B-D-C-C",
          ">>>>-event"
         ]
        ],
        [
         [
          "root-A-B-D-C-C",
          ">>>>-event"
         ]
        ],
        [
         [
          "root-A-B-C",
          ">>>>>>>>-event"
         ]
        ],
        [
         [
          "root-A-B-D-C",
          ">>>>>>-event"
         ]
        ],
        [
         [
          "root-A-B-C",
          ">>>>>>>>-event"
         ]
        ]
       ],
       "datasetInfos": [],
       "dbfsResultPath": null,
       "isJsonSchema": true,
       "metadata": {},
       "overflow": false,
       "plotOptions": {
        "customPlotOptions": {},
        "displayType": "table",
        "pivotAggregation": null,
        "pivotColumns": null,
        "xColumns": null,
        "yColumns": null
       },
       "removedWidgets": [],
       "schema": [
        {
         "metadata": "{}",
         "name": "nodes_with_label_C",
         "type": "{\"type\":\"struct\",\"fields\":[{\"name\":\"node_id\",\"type\":\"string\",\"nullable\":true,\"metadata\":{}},{\"name\":\"description\",\"type\":\"string\",\"nullable\":true,\"metadata\":{}}]}"
        }
       ],
       "type": "table"
      }
     },
     "output_type": "display_data"
    }
   ],
   "source": [
    "%sql\n",
    "SELECT \n",
    "  explode(\n",
    "    transform(\n",
    "      filter(nth_level_children, x -> x.label = 'C'),\n",
    "      x -> struct(x.node_id AS node_id, concat(repeat(\">>\", 7 - x.level), \"-\", \"event\") AS description)\n",
    "    )\n",
    "  ) AS nodes_with_label_C\n",
    "FROM iws_model"
   ]
  },
  {
   "cell_type": "code",
   "execution_count": 0,
   "metadata": {
    "application/vnd.databricks.v1+cell": {
     "cellMetadata": {
      "byteLimit": 2048000,
      "rowLimit": 10000
     },
     "inputWidgets": {},
     "nuid": "38905d9b-596d-4856-9a8a-c59737d41a16",
     "showTitle": false,
     "title": ""
    }
   },
   "outputs": [],
   "source": [
    "import random \n",
    "\n",
    "activities = [\"A\",\"B\",\"C\",\"D\",\"E\",\"F\"]\n",
    "trace_id_lower = 0\n",
    "trace_id_upper = 9\n",
    "\n",
    "def insert_event(event=None, trace_id=None):\n",
    "    if not event:\n",
    "        event = random.choice(activities)\n",
    "    if not trace_id:\n",
    "        trace_id = 0 #random.randint(trace_id_lower, trace_id_upper)\n",
    "    spark.sql(f\"INSERT INTO iws_event SELECT '{event}', CURRENT_TIMESTAMP(), 'trace_id_{trace_id}'\")"
   ]
  },
  {
   "cell_type": "code",
   "execution_count": 0,
   "metadata": {
    "application/vnd.databricks.v1+cell": {
     "cellMetadata": {
      "byteLimit": 2048000,
      "rowLimit": 10000
     },
     "inputWidgets": {},
     "nuid": "97acdc3a-11d6-43f3-a866-ca05af9e69d8",
     "showTitle": false,
     "title": ""
    }
   },
   "outputs": [],
   "source": [
    "import pyspark.sql.functions as F \n",
    "from time import sleep\n",
    "event_df = spark.readStream.table(\"iws_event\").withWatermark(\"ts\", \"30 minutes\")"
   ]
  },
  {
   "cell_type": "code",
   "execution_count": 0,
   "metadata": {
    "application/vnd.databricks.v1+cell": {
     "cellMetadata": {
      "byteLimit": 2048000,
      "rowLimit": 10000
     },
     "inputWidgets": {},
     "nuid": "e242c49d-397b-4967-bae1-48fab93463b1",
     "showTitle": false,
     "title": ""
    }
   },
   "outputs": [],
   "source": [
    "event_df.createOrReplaceTempView(\"events\")"
   ]
  },
  {
   "cell_type": "code",
   "execution_count": 0,
   "metadata": {
    "application/vnd.databricks.v1+cell": {
     "cellMetadata": {
      "byteLimit": 2048000,
      "implicitDf": true,
      "rowLimit": 10000
     },
     "inputWidgets": {},
     "nuid": "4aa090f3-3b2a-4089-b268-5ea3fa02a665",
     "showTitle": false,
     "title": ""
    }
   },
   "outputs": [
    {
     "output_type": "display_data",
     "data": {
      "text/html": [
       "<style scoped>\n",
       "  .table-result-container {\n",
       "    max-height: 300px;\n",
       "    overflow: auto;\n",
       "  }\n",
       "  table, th, td {\n",
       "    border: 1px solid black;\n",
       "    border-collapse: collapse;\n",
       "  }\n",
       "  th, td {\n",
       "    padding: 5px;\n",
       "  }\n",
       "  th {\n",
       "    text-align: left;\n",
       "  }\n",
       "</style><div class='table-result-container'><table class='table-result'><thead style='background-color: white'><tr></tr></thead><tbody></tbody></table></div>"
      ]
     },
     "metadata": {
      "application/vnd.databricks.v1+output": {
       "addedWidgets": {},
       "aggData": [],
       "aggError": "",
       "aggOverflow": false,
       "aggSchema": [],
       "aggSeriesLimitReached": false,
       "aggType": "",
       "arguments": {},
       "columnCustomDisplayInfos": {},
       "data": [],
       "datasetInfos": [],
       "dbfsResultPath": null,
       "isJsonSchema": true,
       "metadata": {},
       "overflow": false,
       "plotOptions": {
        "customPlotOptions": {},
        "displayType": "table",
        "pivotAggregation": null,
        "pivotColumns": null,
        "xColumns": null,
        "yColumns": null
       },
       "removedWidgets": [],
       "schema": [],
       "type": "table"
      }
     },
     "output_type": "display_data"
    }
   ],
   "source": [
    "\n",
    "%sql\n",
    "CREATE OR REPLACE TEMP VIEW latest_state AS \n",
    "SELECT trace_id, ts, current_node, current_id, cost_of_alignment,right_trace as trace,execution_sequence,event_level, max_event_level as current_event_level,current_node_level FROM (\n",
    "SELECT *, row_number() OVER (PARTITION BY trace_id,current_id order by event_level desc, cost_of_alignment asc) rn,\n",
    "max(event_level) OVER (PARTITION BY trace_id) AS max_event_level, max(trace) OVER (PARTITION BY trace_id) as right_trace FROM iws_state\n",
    ") WHERE rn = 1 --and event_level > current_event_level -2\n",
    "--need to only get the values where when the node_id is the same, then the one with the highest event level is saved\n",
    "-- Trace needs to be like this since we are possibly using past events (which are not updated) in the future"
   ]
  },
  {
   "cell_type": "code",
   "execution_count": 0,
   "metadata": {
    "application/vnd.databricks.v1+cell": {
     "cellMetadata": {
      "byteLimit": 2048000,
      "implicitDf": true,
      "rowLimit": 10000
     },
     "inputWidgets": {},
     "nuid": "887ac5cf-9869-4d87-a91b-5fcc08697ace",
     "showTitle": false,
     "title": ""
    }
   },
   "outputs": [
    {
     "output_type": "stream",
     "name": "stdout",
     "output_type": "stream",
     "text": [
      "Out[8]: <pyspark.sql.streaming.query.StreamingQuery at 0x7f0f42e350a0>"
     ]
    }
   ],
   "source": [
    "#if looking at older events, cost should be difference in event levels also number of skips >> between is same number\n",
    "#TODO FIX IF EVENT IS FIRST COMING IN (fix with adding root row automatically)\n",
    "#current level -> used to track what event the state is from if the state is used in the future\n",
    "#event level -> used to track the current event level (how many events there have been)\n",
    "#current_node_level -> used to track what level the node is, used in calculation\n",
    "spark.sql(\"\"\"\n",
    "SELECT trace_id, ts, exploded.*, trace\n",
    "FROM (\n",
    "    SELECT \n",
    "      e.trace_id, \n",
    "      e.ts,\n",
    "      concat(e.trace,e.event) as trace,\n",
    "      CASE \n",
    "        WHEN array_contains(transform(m.nth_level_children, x -> x.label), e.event) THEN\n",
    "          transform(\n",
    "            filter(m.nth_level_children, x -> x.label LIKE e.event),\n",
    "            x -> struct(e.event as current_node, x.node_id as current_id, e.cost_of_alignment + greatest(abs(x.level - current_node_level-1),abs(current_event_level - event_level)) as cost_of_alignment, concat(coalesce(execution_sequence, \"root\"), repeat(\">>\", greatest(abs(x.level - current_node_level-1),abs(current_event_level - event_level))), e.event) as execution_sequence, current_event_level+1 as event_level, current_event_level + 1 as current_event_level,x.level as current_node_level)\n",
    "          )\n",
    "        ELSE\n",
    "          array(struct(e.current_node as current_node, m.id as current_id, e.cost_of_alignment + e.current_event_level - e.event_level + 1 as cost_of_alignment, concat(execution_sequence, repeat(\">>\", current_event_level - event_level), \">>\")as execution_sequence, e.current_event_level + 1 as event_level, current_event_level + 1 as current_event_level, current_node_level))\n",
    "      END AS exploded_struct\n",
    "    FROM \n",
    "      (SELECT e.*, COALESCE(r.current_node, \"-\") as current_node, COALESCE(r.current_id, \"root\") as current_id, coalesce(cost_of_alignment, 0) as cost_of_alignment, coalesce(r.trace,\"\") as trace ,execution_sequence, coalesce(event_level, 0) as event_level, coalesce(current_event_level, 0) as current_event_level,coalesce(current_node_level,0) as current_node_level FROM events e LEFT JOIN latest_state r ON e.trace_id = r.trace_id) e \n",
    "    JOIN iws_model m ON e.current_id = m.id\n",
    ") \n",
    "LATERAL VIEW explode(exploded_struct) t AS exploded\n",
    "\"\"\").writeStream.format(\"delta\").outputMode(\"append\").option(\"checkpointLocation\",\"/tmp/delta/state_append_25/\").toTable(\"iws_state\")"
   ]
  },
  {
   "cell_type": "code",
   "execution_count": 0,
   "metadata": {
    "application/vnd.databricks.v1+cell": {
     "cellMetadata": {
      "byteLimit": 2048000,
      "implicitDf": true,
      "rowLimit": 10000
     },
     "inputWidgets": {},
     "nuid": "d325c742-cd32-459e-ba26-1fbc30ad4177",
     "showTitle": false,
     "title": ""
    }
   },
   "outputs": [
    {
     "output_type": "display_data",
     "data": {
      "text/html": [
       "<style scoped>\n",
       "  .table-result-container {\n",
       "    max-height: 300px;\n",
       "    overflow: auto;\n",
       "  }\n",
       "  table, th, td {\n",
       "    border: 1px solid black;\n",
       "    border-collapse: collapse;\n",
       "  }\n",
       "  th, td {\n",
       "    padding: 5px;\n",
       "  }\n",
       "  th {\n",
       "    text-align: left;\n",
       "  }\n",
       "</style><div class='table-result-container'><table class='table-result'><thead style='background-color: white'><tr><th>trace_id</th><th>ts</th><th>current_node</th><th>current_id</th><th>cost_of_alignment</th><th>trace</th><th>execution_sequence</th><th>event_level</th><th>current_event_level</th><th>current_node_level</th></tr></thead><tbody><tr><td>trace_id_0</td><td>2024-04-04T17:12:36.214+0000</td><td>A</td><td>root-A</td><td>5</td><td>AFBBCA</td><td>rootA>>>>>>>>>></td><td>6</td><td>6</td><td>1</td></tr><tr><td>trace_id_0</td><td>2024-04-04T17:12:36.214+0000</td><td>B</td><td>root-A-B</td><td>4</td><td>AFBBCA</td><td>rootA>>B>>>>>></td><td>6</td><td>6</td><td>2</td></tr><tr><td>trace_id_0</td><td>2024-04-04T17:12:36.214+0000</td><td>C</td><td>root-A-B-C</td><td>3</td><td>AFBBCA</td><td>rootA>>B>>C>></td><td>6</td><td>6</td><td>3</td></tr><tr><td>trace_id_0</td><td>2024-04-04T17:12:36.214+0000</td><td>C</td><td>root-A-B-D-C</td><td>4</td><td>AFBBCA</td><td>rootA>>B>>>>C>></td><td>6</td><td>6</td><td>4</td></tr><tr><td>trace_id_0</td><td>2024-04-04T17:12:36.214+0000</td><td>C</td><td>root-A-B-D-C-C</td><td>5</td><td>AFBBCA</td><td>rootA>>B>>>>>>C>></td><td>6</td><td>6</td><td>5</td></tr></tbody></table></div>"
      ]
     },
     "metadata": {
      "application/vnd.databricks.v1+output": {
       "addedWidgets": {},
       "aggData": [],
       "aggError": "",
       "aggOverflow": false,
       "aggSchema": [],
       "aggSeriesLimitReached": false,
       "aggType": "",
       "arguments": {},
       "columnCustomDisplayInfos": {},
       "data": [
        [
         "trace_id_0",
         "2024-04-04T17:12:36.214+0000",
         "A",
         "root-A",
         5,
         "AFBBCA",
         "rootA>>>>>>>>>>",
         6,
         6,
         1
        ],
        [
         "trace_id_0",
         "2024-04-04T17:12:36.214+0000",
         "B",
         "root-A-B",
         4,
         "AFBBCA",
         "rootA>>B>>>>>>",
         6,
         6,
         2
        ],
        [
         "trace_id_0",
         "2024-04-04T17:12:36.214+0000",
         "C",
         "root-A-B-C",
         3,
         "AFBBCA",
         "rootA>>B>>C>>",
         6,
         6,
         3
        ],
        [
         "trace_id_0",
         "2024-04-04T17:12:36.214+0000",
         "C",
         "root-A-B-D-C",
         4,
         "AFBBCA",
         "rootA>>B>>>>C>>",
         6,
         6,
         4
        ],
        [
         "trace_id_0",
         "2024-04-04T17:12:36.214+0000",
         "C",
         "root-A-B-D-C-C",
         5,
         "AFBBCA",
         "rootA>>B>>>>>>C>>",
         6,
         6,
         5
        ]
       ],
       "datasetInfos": [],
       "dbfsResultPath": null,
       "isJsonSchema": true,
       "metadata": {},
       "overflow": false,
       "plotOptions": {
        "customPlotOptions": {},
        "displayType": "table",
        "pivotAggregation": null,
        "pivotColumns": null,
        "xColumns": null,
        "yColumns": null
       },
       "removedWidgets": [],
       "schema": [
        {
         "metadata": "{}",
         "name": "trace_id",
         "type": "\"string\""
        },
        {
         "metadata": "{}",
         "name": "ts",
         "type": "\"timestamp\""
        },
        {
         "metadata": "{}",
         "name": "current_node",
         "type": "\"string\""
        },
        {
         "metadata": "{}",
         "name": "current_id",
         "type": "\"string\""
        },
        {
         "metadata": "{}",
         "name": "cost_of_alignment",
         "type": "\"integer\""
        },
        {
         "metadata": "{}",
         "name": "trace",
         "type": "\"string\""
        },
        {
         "metadata": "{}",
         "name": "execution_sequence",
         "type": "\"string\""
        },
        {
         "metadata": "{}",
         "name": "event_level",
         "type": "\"integer\""
        },
        {
         "metadata": "{}",
         "name": "current_event_level",
         "type": "\"integer\""
        },
        {
         "metadata": "{}",
         "name": "current_node_level",
         "type": "\"integer\""
        }
       ],
       "type": "table"
      }
     },
     "output_type": "display_data"
    }
   ],
   "source": [
    "%sql\n",
    "SELECT * FROM latest_state\n",
    "-- vaata mis state on"
   ]
  },
  {
   "cell_type": "code",
   "execution_count": 0,
   "metadata": {
    "application/vnd.databricks.v1+cell": {
     "cellMetadata": {
      "byteLimit": 2048000,
      "implicitDf": true,
      "rowLimit": 10000
     },
     "inputWidgets": {},
     "nuid": "53520f74-4f1b-4827-af69-b2aac2d673bb",
     "showTitle": false,
     "title": ""
    }
   },
   "outputs": [
    {
     "output_type": "display_data",
     "data": {
      "text/html": [
       "<style scoped>\n",
       "  .table-result-container {\n",
       "    max-height: 300px;\n",
       "    overflow: auto;\n",
       "  }\n",
       "  table, th, td {\n",
       "    border: 1px solid black;\n",
       "    border-collapse: collapse;\n",
       "  }\n",
       "  th, td {\n",
       "    padding: 5px;\n",
       "  }\n",
       "  th {\n",
       "    text-align: left;\n",
       "  }\n",
       "</style><div class='table-result-container'><table class='table-result'><thead style='background-color: white'><tr><th>trace_id</th><th>ts</th><th>current_node</th><th>current_id</th><th>cost_of_alignment</th><th>trace</th><th>execution_sequence</th><th>event_level</th><th>current_event_level</th><th>current_node_level</th></tr></thead><tbody><tr><td>trace_id_0</td><td>2024-04-04T14:39:20.027+0000</td><td>C</td><td>root-A-B-D-C-C</td><td>5</td><td>ACBC</td><td>root*A>>>>>>*C>>+>>*C</td><td>4</td><td>4</td><td>5</td></tr><tr><td>trace_id_0</td><td>2024-04-04T14:39:20.027+0000</td><td>C</td><td>root-A-B-C</td><td>4</td><td>ACBC</td><td>root*A>>>>*C>>+>>+</td><td>4</td><td>4</td><td>3</td></tr><tr><td>trace_id_0</td><td>2024-04-04T14:39:20.027+0000</td><td>C</td><td>root-A-B-C</td><td>2</td><td>ACBC</td><td>root*A>>*B>>*C</td><td>4</td><td>4</td><td>3</td></tr><tr><td>trace_id_0</td><td>2024-04-04T14:39:20.027+0000</td><td>C</td><td>root-A-B-D-C</td><td>3</td><td>ACBC</td><td>root*A>>*B>>>>*C</td><td>4</td><td>4</td><td>4</td></tr><tr><td>trace_id_0</td><td>2024-04-04T14:39:20.027+0000</td><td>C</td><td>root-A-B-D-C-C</td><td>4</td><td>ACBC</td><td>root*A>>*B>>>>>>*C</td><td>4</td><td>4</td><td>5</td></tr><tr><td>trace_id_0</td><td>2024-04-04T14:39:20.027+0000</td><td>C</td><td>root-A-B-C</td><td>2</td><td>ACBC</td><td>root*A>>>>*C</td><td>4</td><td>4</td><td>3</td></tr><tr><td>trace_id_0</td><td>2024-04-04T14:39:20.027+0000</td><td>C</td><td>root-A-B-D-C</td><td>3</td><td>ACBC</td><td>root*A>>>>>>*C</td><td>4</td><td>4</td><td>4</td></tr><tr><td>trace_id_0</td><td>2024-04-04T14:39:34.781+0000</td><td>C</td><td>root-A-B-D-C-C</td><td>5</td><td>ACBCD</td><td>root*A>>*B>>>>>>*C>>+</td><td>5</td><td>5</td><td>5</td></tr><tr><td>trace_id_0</td><td>2024-04-04T14:39:34.781+0000</td><td>D</td><td>root-A-B-D-C-D</td><td>4</td><td>ACBCD</td><td>root*A>>*B>>>>*C>>*D</td><td>5</td><td>5</td><td>5</td></tr><tr><td>trace_id_0</td><td>2024-04-04T14:39:34.781+0000</td><td>C</td><td>root-A-B-C</td><td>3</td><td>ACBCD</td><td>root*A>>*B>>*C>>+</td><td>5</td><td>5</td><td>3</td></tr><tr><td>trace_id_0</td><td>2024-04-04T14:39:34.781+0000</td><td>D</td><td>root-A-B-D</td><td>2</td><td>ACBCD</td><td>root*A>>*B>>*D</td><td>5</td><td>5</td><td>3</td></tr><tr><td>trace_id_0</td><td>2024-04-04T14:39:34.781+0000</td><td>D</td><td>root-A-B-D-C-D</td><td>4</td><td>ACBCD</td><td>root*A>>*B>>>>>>*D</td><td>5</td><td>5</td><td>5</td></tr><tr><td>trace_id_0</td><td>2024-04-04T14:39:34.781+0000</td><td>D</td><td>root-A-B-D</td><td>3</td><td>ACBCD</td><td>root*A>>>>>>*D</td><td>5</td><td>5</td><td>3</td></tr><tr><td>trace_id_0</td><td>2024-04-04T14:39:09.070+0000</td><td>C</td><td>root-A-B-D-C</td><td>4</td><td>ACB</td><td>root*A>>>>>>*C>>+</td><td>3</td><td>3</td><td>4</td></tr><tr><td>trace_id_0</td><td>2024-04-04T14:39:09.070+0000</td><td>C</td><td>root-A-B-C</td><td>3</td><td>ACB</td><td>root*A>>>>*C>>+</td><td>3</td><td>3</td><td>3</td></tr><tr><td>trace_id_0</td><td>2024-04-04T14:39:09.070+0000</td><td>B</td><td>root-A-B</td><td>1</td><td>ACB</td><td>root*A>>*B</td><td>3</td><td>3</td><td>2</td></tr><tr><td>trace_id_0</td><td>2024-04-04T14:38:43.536+0000</td><td>C</td><td>root-A-B-C</td><td>2</td><td>AC</td><td>root*A>>>>*C</td><td>2</td><td>2</td><td>3</td></tr><tr><td>trace_id_0</td><td>2024-04-04T14:38:43.536+0000</td><td>C</td><td>root-A-B-D-C</td><td>3</td><td>AC</td><td>root*A>>>>>>*C</td><td>2</td><td>2</td><td>4</td></tr><tr><td>trace_id_0</td><td>2024-04-04T14:35:13.914+0000</td><td>A</td><td>root-A</td><td>0</td><td>A</td><td>root*A</td><td>1</td><td>1</td><td>1</td></tr></tbody></table></div>"
      ]
     },
     "metadata": {
      "application/vnd.databricks.v1+output": {
       "addedWidgets": {},
       "aggData": [],
       "aggError": "",
       "aggOverflow": false,
       "aggSchema": [],
       "aggSeriesLimitReached": false,
       "aggType": "",
       "arguments": {},
       "columnCustomDisplayInfos": {},
       "data": [
        [
         "trace_id_0",
         "2024-04-04T14:39:20.027+0000",
         "C",
         "root-A-B-D-C-C",
         5,
         "ACBC",
         "root*A>>>>>>*C>>+>>*C",
         4,
         4,
         5
        ],
        [
         "trace_id_0",
         "2024-04-04T14:39:20.027+0000",
         "C",
         "root-A-B-C",
         4,
         "ACBC",
         "root*A>>>>*C>>+>>+",
         4,
         4,
         3
        ],
        [
         "trace_id_0",
         "2024-04-04T14:39:20.027+0000",
         "C",
         "root-A-B-C",
         2,
         "ACBC",
         "root*A>>*B>>*C",
         4,
         4,
         3
        ],
        [
         "trace_id_0",
         "2024-04-04T14:39:20.027+0000",
         "C",
         "root-A-B-D-C",
         3,
         "ACBC",
         "root*A>>*B>>>>*C",
         4,
         4,
         4
        ],
        [
         "trace_id_0",
         "2024-04-04T14:39:20.027+0000",
         "C",
         "root-A-B-D-C-C",
         4,
         "ACBC",
         "root*A>>*B>>>>>>*C",
         4,
         4,
         5
        ],
        [
         "trace_id_0",
         "2024-04-04T14:39:20.027+0000",
         "C",
         "root-A-B-C",
         2,
         "ACBC",
         "root*A>>>>*C",
         4,
         4,
         3
        ],
        [
         "trace_id_0",
         "2024-04-04T14:39:20.027+0000",
         "C",
         "root-A-B-D-C",
         3,
         "ACBC",
         "root*A>>>>>>*C",
         4,
         4,
         4
        ],
        [
         "trace_id_0",
         "2024-04-04T14:39:34.781+0000",
         "C",
         "root-A-B-D-C-C",
         5,
         "ACBCD",
         "root*A>>*B>>>>>>*C>>+",
         5,
         5,
         5
        ],
        [
         "trace_id_0",
         "2024-04-04T14:39:34.781+0000",
         "D",
         "root-A-B-D-C-D",
         4,
         "ACBCD",
         "root*A>>*B>>>>*C>>*D",
         5,
         5,
         5
        ],
        [
         "trace_id_0",
         "2024-04-04T14:39:34.781+0000",
         "C",
         "root-A-B-C",
         3,
         "ACBCD",
         "root*A>>*B>>*C>>+",
         5,
         5,
         3
        ],
        [
         "trace_id_0",
         "2024-04-04T14:39:34.781+0000",
         "D",
         "root-A-B-D",
         2,
         "ACBCD",
         "root*A>>*B>>*D",
         5,
         5,
         3
        ],
        [
         "trace_id_0",
         "2024-04-04T14:39:34.781+0000",
         "D",
         "root-A-B-D-C-D",
         4,
         "ACBCD",
         "root*A>>*B>>>>>>*D",
         5,
         5,
         5
        ],
        [
         "trace_id_0",
         "2024-04-04T14:39:34.781+0000",
         "D",
         "root-A-B-D",
         3,
         "ACBCD",
         "root*A>>>>>>*D",
         5,
         5,
         3
        ],
        [
         "trace_id_0",
         "2024-04-04T14:39:09.070+0000",
         "C",
         "root-A-B-D-C",
         4,
         "ACB",
         "root*A>>>>>>*C>>+",
         3,
         3,
         4
        ],
        [
         "trace_id_0",
         "2024-04-04T14:39:09.070+0000",
         "C",
         "root-A-B-C",
         3,
         "ACB",
         "root*A>>>>*C>>+",
         3,
         3,
         3
        ],
        [
         "trace_id_0",
         "2024-04-04T14:39:09.070+0000",
         "B",
         "root-A-B",
         1,
         "ACB",
         "root*A>>*B",
         3,
         3,
         2
        ],
        [
         "trace_id_0",
         "2024-04-04T14:38:43.536+0000",
         "C",
         "root-A-B-C",
         2,
         "AC",
         "root*A>>>>*C",
         2,
         2,
         3
        ],
        [
         "trace_id_0",
         "2024-04-04T14:38:43.536+0000",
         "C",
         "root-A-B-D-C",
         3,
         "AC",
         "root*A>>>>>>*C",
         2,
         2,
         4
        ],
        [
         "trace_id_0",
         "2024-04-04T14:35:13.914+0000",
         "A",
         "root-A",
         0,
         "A",
         "root*A",
         1,
         1,
         1
        ]
       ],
       "datasetInfos": [],
       "dbfsResultPath": null,
       "isJsonSchema": true,
       "metadata": {},
       "overflow": false,
       "plotOptions": {
        "customPlotOptions": {},
        "displayType": "table",
        "pivotAggregation": null,
        "pivotColumns": null,
        "xColumns": null,
        "yColumns": null
       },
       "removedWidgets": [],
       "schema": [
        {
         "metadata": "{}",
         "name": "trace_id",
         "type": "\"string\""
        },
        {
         "metadata": "{}",
         "name": "ts",
         "type": "\"timestamp\""
        },
        {
         "metadata": "{}",
         "name": "current_node",
         "type": "\"string\""
        },
        {
         "metadata": "{}",
         "name": "current_id",
         "type": "\"string\""
        },
        {
         "metadata": "{}",
         "name": "cost_of_alignment",
         "type": "\"integer\""
        },
        {
         "metadata": "{}",
         "name": "trace",
         "type": "\"string\""
        },
        {
         "metadata": "{}",
         "name": "execution_sequence",
         "type": "\"string\""
        },
        {
         "metadata": "{}",
         "name": "event_level",
         "type": "\"integer\""
        },
        {
         "metadata": "{}",
         "name": "current_event_level",
         "type": "\"integer\""
        },
        {
         "metadata": "{}",
         "name": "current_node_level",
         "type": "\"integer\""
        }
       ],
       "type": "table"
      }
     },
     "output_type": "display_data"
    }
   ],
   "source": [
    "%sql\n",
    "SELECT * from iws_state "
   ]
  },
  {
   "cell_type": "code",
   "execution_count": 0,
   "metadata": {
    "application/vnd.databricks.v1+cell": {
     "cellMetadata": {
      "byteLimit": 2048000,
      "rowLimit": 10000
     },
     "inputWidgets": {},
     "nuid": "1bf208c8-bc7b-459d-96cf-32e22626cae9",
     "showTitle": false,
     "title": ""
    }
   },
   "outputs": [],
   "source": [
    "for i in range(5):\n",
    "    insert_event()\n",
    "    #sleep(2)\n",
    "# lisa uus event. Vaata uuesti mis state on (ülemine cell)\n",
    "# võid katsetada lisada suvalist eventi vahepeal, nt X"
   ]
  },
  {
   "cell_type": "code",
   "execution_count": 0,
   "metadata": {
    "application/vnd.databricks.v1+cell": {
     "cellMetadata": {
      "byteLimit": 2048000,
      "rowLimit": 10000
     },
     "inputWidgets": {},
     "nuid": "da461519-91d6-4c7b-8205-12cd71cefe52",
     "showTitle": false,
     "title": ""
    },
    "jupyter": {
     "outputs_hidden": true,
     "source_hidden": true
    }
   },
   "outputs": [
    {
     "output_type": "stream",
     "name": "stdout",
     "output_type": "stream",
     "text": [
      "+---+------+---------+---------------+\n| ID| Event|Condition|          Label|\n+---+------+---------+---------------+\n|  1|Event1|        A|Condition A Met|\n|  1|Event1|     null|           null|\n|  2|Event2|        A|Condition A Met|\n|  2|Event2|        B|Condition B Met|\n|  3|Event3|     null|           null|\n|  3|Event3|        B|Condition B Met|\n+---+------+---------+---------------+\n\n"
     ]
    }
   ],
   "source": [
    "#näited funktsioonide tööpõhimõtetest arusaamiseks\n",
    "\n",
    "from pyspark.sql import SparkSession\n",
    "from pyspark.sql.functions import expr\n",
    "\n",
    "data = [\n",
    "    (1, 'Event1', True, False),\n",
    "    (2, 'Event2', True, True),\n",
    "    (3, 'Event3', False, True)\n",
    "]\n",
    "columns = ['ID', 'Event', 'ConditionA', 'ConditionB']\n",
    "\n",
    "df = spark.createDataFrame(data, schema=columns)\n",
    "\n",
    "df.createOrReplaceTempView(\"events\")\n",
    "\n",
    "query = \"\"\"\n",
    "SELECT ID, Event, \n",
    "       explode(arrays_zip(\n",
    "         array(CASE WHEN ConditionA THEN 'A' ELSE NULL END, CASE WHEN ConditionB THEN 'B' ELSE NULL END),\n",
    "         array(CASE WHEN ConditionA THEN 'Condition A Met' ELSE NULL END, CASE WHEN ConditionB THEN 'Condition B Met' ELSE NULL END)\n",
    "       )) as conditions\n",
    "FROM events\n",
    "WHERE ConditionA OR ConditionB\n",
    "\"\"\"\n",
    "\n",
    "result = spark.sql(query)\n",
    "\n",
    "result = result.selectExpr(\"ID\", \"Event\", \"conditions['0'] as Condition\", \"conditions['1'] as Label\")\n",
    "\n",
    "result.show()"
   ]
  },
  {
   "cell_type": "code",
   "execution_count": 0,
   "metadata": {
    "application/vnd.databricks.v1+cell": {
     "cellMetadata": {
      "byteLimit": 2048000,
      "rowLimit": 10000
     },
     "inputWidgets": {},
     "nuid": "c24c9921-5a75-4ab4-aab3-05ccbe85435b",
     "showTitle": false,
     "title": ""
    },
    "jupyter": {
     "outputs_hidden": true,
     "source_hidden": true
    }
   },
   "outputs": [
    {
     "output_type": "stream",
     "name": "stdout",
     "output_type": "stream",
     "text": [
      "+---------+\n|condition|\n+---------+\n|        A|\n|        B|\n+---------+\n\n+----+-----+\n|item|value|\n+----+-----+\n|   A|    5|\n|   D|    6|\n|   C|    7|\n|   F|    8|\n+----+-----+\n\n"
     ]
    }
   ],
   "source": [
    "from pyspark.sql import SparkSession\n",
    "from pyspark.sql.functions import expr, when, array, explode\n",
    "\n",
    "data = [(\"A\",), (\"B\",)]\n",
    "schema = [\"condition\"]\n",
    "\n",
    "df = spark.createDataFrame(data, schema)\n",
    "df.show()\n",
    "\n",
    "df.createOrReplaceTempView(\"conditions_table\")\n",
    "\n",
    "result_df = spark.sql(\"\"\"\n",
    "SELECT \n",
    "    exploded.item AS item,\n",
    "    exploded.value AS value\n",
    "FROM (\n",
    "    SELECT explode(\n",
    "        CASE \n",
    "            WHEN condition = 'A' THEN array(struct('A' AS item, 5 AS value))\n",
    "            WHEN condition = 'B' THEN array(struct('D' AS item, 6 AS value), struct('C' AS item, 7 AS value), struct('F' AS item, 8 AS value))\n",
    "            ELSE array() -- Handle other conditions or default case\n",
    "        END\n",
    "    ) AS exploded\n",
    "    FROM conditions_table\n",
    ") AS t\n",
    "\"\"\")\n",
    "\n",
    "result_df.show()"
   ]
  }
 ],
 "metadata": {
  "application/vnd.databricks.v1+notebook": {
   "dashboards": [],
   "language": "python",
   "notebookMetadata": {
    "mostRecentlyExecutedCommandWithImplicitDF": {
     "commandId": 3189399297484317,
     "dataframes": [
      "_sqldf"
     ]
    },
    "pythonIndentUnit": 4
   },
   "notebookName": "agnes_example_adding_model_moves",
   "widgets": {}
  }
 },
 "nbformat": 4,
 "nbformat_minor": 0
}
