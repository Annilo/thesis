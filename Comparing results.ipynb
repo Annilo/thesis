{
 "cells": [
  {
   "cell_type": "code",
   "execution_count": 24,
   "id": "8a9ade35",
   "metadata": {},
   "outputs": [],
   "source": [
    "import pandas as pd\n",
    "\n",
    "iws = pd.read_csv('iws.csv')"
   ]
  },
  {
   "cell_type": "code",
   "execution_count": 25,
   "id": "88a6e961",
   "metadata": {},
   "outputs": [
    {
     "data": {
      "text/html": [
       "<div>\n",
       "<style scoped>\n",
       "    .dataframe tbody tr th:only-of-type {\n",
       "        vertical-align: middle;\n",
       "    }\n",
       "\n",
       "    .dataframe tbody tr th {\n",
       "        vertical-align: top;\n",
       "    }\n",
       "\n",
       "    .dataframe thead th {\n",
       "        text-align: right;\n",
       "    }\n",
       "</style>\n",
       "<table border=\"1\" class=\"dataframe\">\n",
       "  <thead>\n",
       "    <tr style=\"text-align: right;\">\n",
       "      <th></th>\n",
       "      <th>TraceId</th>\n",
       "      <th>Log</th>\n",
       "      <th>Model</th>\n",
       "      <th>Cost</th>\n",
       "    </tr>\n",
       "  </thead>\n",
       "  <tbody>\n",
       "    <tr>\n",
       "      <th>0</th>\n",
       "      <td>0</td>\n",
       "      <td>AB</td>\n",
       "      <td>AB</td>\n",
       "      <td>0</td>\n",
       "    </tr>\n",
       "    <tr>\n",
       "      <th>1</th>\n",
       "      <td>1</td>\n",
       "      <td>AB</td>\n",
       "      <td>AB</td>\n",
       "      <td>0</td>\n",
       "    </tr>\n",
       "    <tr>\n",
       "      <th>2</th>\n",
       "      <td>2</td>\n",
       "      <td>ABHIJKLM</td>\n",
       "      <td>ABDEEHIJKLM</td>\n",
       "      <td>3</td>\n",
       "    </tr>\n",
       "    <tr>\n",
       "      <th>3</th>\n",
       "      <td>3</td>\n",
       "      <td>ABG</td>\n",
       "      <td>ABG</td>\n",
       "      <td>0</td>\n",
       "    </tr>\n",
       "    <tr>\n",
       "      <th>4</th>\n",
       "      <td>4</td>\n",
       "      <td>ABNSRTUO</td>\n",
       "      <td>AB</td>\n",
       "      <td>6</td>\n",
       "    </tr>\n",
       "    <tr>\n",
       "      <th>...</th>\n",
       "      <td>...</td>\n",
       "      <td>...</td>\n",
       "      <td>...</td>\n",
       "      <td>...</td>\n",
       "    </tr>\n",
       "    <tr>\n",
       "      <th>1995</th>\n",
       "      <td>1995</td>\n",
       "      <td>ABDE</td>\n",
       "      <td>ABDE</td>\n",
       "      <td>0</td>\n",
       "    </tr>\n",
       "    <tr>\n",
       "      <th>1996</th>\n",
       "      <td>1996</td>\n",
       "      <td>ABNO</td>\n",
       "      <td>AB</td>\n",
       "      <td>2</td>\n",
       "    </tr>\n",
       "    <tr>\n",
       "      <th>1997</th>\n",
       "      <td>1997</td>\n",
       "      <td>ABC</td>\n",
       "      <td>ABC</td>\n",
       "      <td>0</td>\n",
       "    </tr>\n",
       "    <tr>\n",
       "      <th>1998</th>\n",
       "      <td>1998</td>\n",
       "      <td>ABC</td>\n",
       "      <td>ABC</td>\n",
       "      <td>0</td>\n",
       "    </tr>\n",
       "    <tr>\n",
       "      <th>1999</th>\n",
       "      <td>1999</td>\n",
       "      <td>ABDE</td>\n",
       "      <td>ABDE</td>\n",
       "      <td>0</td>\n",
       "    </tr>\n",
       "  </tbody>\n",
       "</table>\n",
       "<p>2000 rows × 4 columns</p>\n",
       "</div>"
      ],
      "text/plain": [
       "      TraceId       Log        Model  Cost\n",
       "0           0        AB           AB     0\n",
       "1           1        AB           AB     0\n",
       "2           2  ABHIJKLM  ABDEEHIJKLM     3\n",
       "3           3       ABG          ABG     0\n",
       "4           4  ABNSRTUO           AB     6\n",
       "...       ...       ...          ...   ...\n",
       "1995     1995      ABDE         ABDE     0\n",
       "1996     1996      ABNO           AB     2\n",
       "1997     1997       ABC          ABC     0\n",
       "1998     1998       ABC          ABC     0\n",
       "1999     1999      ABDE         ABDE     0\n",
       "\n",
       "[2000 rows x 4 columns]"
      ]
     },
     "execution_count": 25,
     "metadata": {},
     "output_type": "execute_result"
    }
   ],
   "source": [
    "iws"
   ]
  },
  {
   "cell_type": "code",
   "execution_count": 26,
   "id": "805af9f8",
   "metadata": {},
   "outputs": [],
   "source": [
    "forbatch = pd.read_csv('finaltest.csv')"
   ]
  },
  {
   "cell_type": "code",
   "execution_count": 27,
   "id": "a9ce3a66",
   "metadata": {},
   "outputs": [],
   "source": [
    "forbatch['trace_id'] = forbatch['trace_id'].str.replace('trace_', '').astype(int)"
   ]
  },
  {
   "cell_type": "code",
   "execution_count": 28,
   "id": "a9eba6f7",
   "metadata": {},
   "outputs": [],
   "source": [
    "forbatch = forbatch.sort_values(by='trace_id')"
   ]
  },
  {
   "cell_type": "code",
   "execution_count": 29,
   "id": "b9cf98cd",
   "metadata": {},
   "outputs": [],
   "source": [
    "forbatch['current_id'] = forbatch['current_id'].str.replace('root', '').str.replace('-', '')"
   ]
  },
  {
   "cell_type": "code",
   "execution_count": 30,
   "id": "e8e9cf25",
   "metadata": {
    "scrolled": true
   },
   "outputs": [],
   "source": [
    "forbatch = forbatch.reset_index(drop=True)"
   ]
  },
  {
   "cell_type": "code",
   "execution_count": 31,
   "id": "40ad4ff9",
   "metadata": {
    "scrolled": true
   },
   "outputs": [
    {
     "data": {
      "text/html": [
       "<div>\n",
       "<style scoped>\n",
       "    .dataframe tbody tr th:only-of-type {\n",
       "        vertical-align: middle;\n",
       "    }\n",
       "\n",
       "    .dataframe tbody tr th {\n",
       "        vertical-align: top;\n",
       "    }\n",
       "\n",
       "    .dataframe thead th {\n",
       "        text-align: right;\n",
       "    }\n",
       "</style>\n",
       "<table border=\"1\" class=\"dataframe\">\n",
       "  <thead>\n",
       "    <tr style=\"text-align: right;\">\n",
       "      <th></th>\n",
       "      <th>trace_id</th>\n",
       "      <th>current_id</th>\n",
       "      <th>previous_events</th>\n",
       "      <th>alignment</th>\n",
       "      <th>cost_of_alignment</th>\n",
       "    </tr>\n",
       "  </thead>\n",
       "  <tbody>\n",
       "    <tr>\n",
       "      <th>0</th>\n",
       "      <td>0</td>\n",
       "      <td>AB</td>\n",
       "      <td>AB</td>\n",
       "      <td>[{\"event\":\"A\",\"move_type\":\"sync\"},{\"event\":\"B\"...</td>\n",
       "      <td>0</td>\n",
       "    </tr>\n",
       "    <tr>\n",
       "      <th>1</th>\n",
       "      <td>1</td>\n",
       "      <td>AB</td>\n",
       "      <td>AB</td>\n",
       "      <td>[{\"event\":\"A\",\"move_type\":\"sync\"},{\"event\":\"B\"...</td>\n",
       "      <td>0</td>\n",
       "    </tr>\n",
       "    <tr>\n",
       "      <th>2</th>\n",
       "      <td>2</td>\n",
       "      <td>ABDEEHIJKLM</td>\n",
       "      <td>ABHIJKLM</td>\n",
       "      <td>[{\"event\":\"A\",\"move_type\":\"sync\"},{\"event\":\"B\"...</td>\n",
       "      <td>3</td>\n",
       "    </tr>\n",
       "    <tr>\n",
       "      <th>3</th>\n",
       "      <td>3</td>\n",
       "      <td>ABG</td>\n",
       "      <td>ABG</td>\n",
       "      <td>[{\"event\":\"A\",\"move_type\":\"sync\"},{\"event\":\"B\"...</td>\n",
       "      <td>0</td>\n",
       "    </tr>\n",
       "    <tr>\n",
       "      <th>4</th>\n",
       "      <td>4</td>\n",
       "      <td>AB</td>\n",
       "      <td>ABNSRTUO</td>\n",
       "      <td>[{\"event\":\"A\",\"move_type\":\"sync\"},{\"event\":\"B\"...</td>\n",
       "      <td>6</td>\n",
       "    </tr>\n",
       "    <tr>\n",
       "      <th>...</th>\n",
       "      <td>...</td>\n",
       "      <td>...</td>\n",
       "      <td>...</td>\n",
       "      <td>...</td>\n",
       "      <td>...</td>\n",
       "    </tr>\n",
       "    <tr>\n",
       "      <th>1995</th>\n",
       "      <td>1995</td>\n",
       "      <td>ABDE</td>\n",
       "      <td>ABDE</td>\n",
       "      <td>[{\"event\":\"A\",\"move_type\":\"sync\"},{\"event\":\"B\"...</td>\n",
       "      <td>0</td>\n",
       "    </tr>\n",
       "    <tr>\n",
       "      <th>1996</th>\n",
       "      <td>1996</td>\n",
       "      <td>AB</td>\n",
       "      <td>ABNO</td>\n",
       "      <td>[{\"event\":\"A\",\"move_type\":\"sync\"},{\"event\":\"B\"...</td>\n",
       "      <td>2</td>\n",
       "    </tr>\n",
       "    <tr>\n",
       "      <th>1997</th>\n",
       "      <td>1997</td>\n",
       "      <td>ABC</td>\n",
       "      <td>ABC</td>\n",
       "      <td>[{\"event\":\"A\",\"move_type\":\"sync\"},{\"event\":\"B\"...</td>\n",
       "      <td>0</td>\n",
       "    </tr>\n",
       "    <tr>\n",
       "      <th>1998</th>\n",
       "      <td>1998</td>\n",
       "      <td>ABC</td>\n",
       "      <td>ABC</td>\n",
       "      <td>[{\"event\":\"A\",\"move_type\":\"sync\"},{\"event\":\"B\"...</td>\n",
       "      <td>0</td>\n",
       "    </tr>\n",
       "    <tr>\n",
       "      <th>1999</th>\n",
       "      <td>1999</td>\n",
       "      <td>ABDE</td>\n",
       "      <td>ABDE</td>\n",
       "      <td>[{\"event\":\"A\",\"move_type\":\"sync\"},{\"event\":\"B\"...</td>\n",
       "      <td>0</td>\n",
       "    </tr>\n",
       "  </tbody>\n",
       "</table>\n",
       "<p>2000 rows × 5 columns</p>\n",
       "</div>"
      ],
      "text/plain": [
       "      trace_id   current_id previous_events  \\\n",
       "0            0           AB              AB   \n",
       "1            1           AB              AB   \n",
       "2            2  ABDEEHIJKLM        ABHIJKLM   \n",
       "3            3          ABG             ABG   \n",
       "4            4           AB        ABNSRTUO   \n",
       "...        ...          ...             ...   \n",
       "1995      1995         ABDE            ABDE   \n",
       "1996      1996           AB            ABNO   \n",
       "1997      1997          ABC             ABC   \n",
       "1998      1998          ABC             ABC   \n",
       "1999      1999         ABDE            ABDE   \n",
       "\n",
       "                                              alignment  cost_of_alignment  \n",
       "0     [{\"event\":\"A\",\"move_type\":\"sync\"},{\"event\":\"B\"...                  0  \n",
       "1     [{\"event\":\"A\",\"move_type\":\"sync\"},{\"event\":\"B\"...                  0  \n",
       "2     [{\"event\":\"A\",\"move_type\":\"sync\"},{\"event\":\"B\"...                  3  \n",
       "3     [{\"event\":\"A\",\"move_type\":\"sync\"},{\"event\":\"B\"...                  0  \n",
       "4     [{\"event\":\"A\",\"move_type\":\"sync\"},{\"event\":\"B\"...                  6  \n",
       "...                                                 ...                ...  \n",
       "1995  [{\"event\":\"A\",\"move_type\":\"sync\"},{\"event\":\"B\"...                  0  \n",
       "1996  [{\"event\":\"A\",\"move_type\":\"sync\"},{\"event\":\"B\"...                  2  \n",
       "1997  [{\"event\":\"A\",\"move_type\":\"sync\"},{\"event\":\"B\"...                  0  \n",
       "1998  [{\"event\":\"A\",\"move_type\":\"sync\"},{\"event\":\"B\"...                  0  \n",
       "1999  [{\"event\":\"A\",\"move_type\":\"sync\"},{\"event\":\"B\"...                  0  \n",
       "\n",
       "[2000 rows x 5 columns]"
      ]
     },
     "execution_count": 31,
     "metadata": {},
     "output_type": "execute_result"
    }
   ],
   "source": [
    "forbatch"
   ]
  },
  {
   "cell_type": "code",
   "execution_count": 32,
   "id": "8584b830",
   "metadata": {},
   "outputs": [],
   "source": [
    "mismatch_rows = forbatch['current_id'] !=iws['Model']\n",
    "non_matching = forbatch[mismatch_rows]"
   ]
  },
  {
   "cell_type": "code",
   "execution_count": 35,
   "id": "07fea0fd",
   "metadata": {},
   "outputs": [
    {
     "data": {
      "text/html": [
       "<div>\n",
       "<style scoped>\n",
       "    .dataframe tbody tr th:only-of-type {\n",
       "        vertical-align: middle;\n",
       "    }\n",
       "\n",
       "    .dataframe tbody tr th {\n",
       "        vertical-align: top;\n",
       "    }\n",
       "\n",
       "    .dataframe thead th {\n",
       "        text-align: right;\n",
       "    }\n",
       "</style>\n",
       "<table border=\"1\" class=\"dataframe\">\n",
       "  <thead>\n",
       "    <tr style=\"text-align: right;\">\n",
       "      <th></th>\n",
       "      <th>trace_id</th>\n",
       "      <th>current_id</th>\n",
       "      <th>previous_events</th>\n",
       "      <th>alignment</th>\n",
       "      <th>cost_of_alignment</th>\n",
       "    </tr>\n",
       "  </thead>\n",
       "  <tbody>\n",
       "  </tbody>\n",
       "</table>\n",
       "</div>"
      ],
      "text/plain": [
       "Empty DataFrame\n",
       "Columns: [trace_id, current_id, previous_events, alignment, cost_of_alignment]\n",
       "Index: []"
      ]
     },
     "execution_count": 35,
     "metadata": {},
     "output_type": "execute_result"
    }
   ],
   "source": [
    "non_matching"
   ]
  },
  {
   "cell_type": "code",
   "execution_count": 33,
   "id": "96f6db69",
   "metadata": {},
   "outputs": [],
   "source": [
    "mismatch_rows = forbatch['cost_of_alignment'] !=iws['Cost']\n",
    "non_matching = forbatch[mismatch_rows]"
   ]
  },
  {
   "cell_type": "code",
   "execution_count": 34,
   "id": "4e2cf383",
   "metadata": {},
   "outputs": [
    {
     "data": {
      "text/html": [
       "<div>\n",
       "<style scoped>\n",
       "    .dataframe tbody tr th:only-of-type {\n",
       "        vertical-align: middle;\n",
       "    }\n",
       "\n",
       "    .dataframe tbody tr th {\n",
       "        vertical-align: top;\n",
       "    }\n",
       "\n",
       "    .dataframe thead th {\n",
       "        text-align: right;\n",
       "    }\n",
       "</style>\n",
       "<table border=\"1\" class=\"dataframe\">\n",
       "  <thead>\n",
       "    <tr style=\"text-align: right;\">\n",
       "      <th></th>\n",
       "      <th>trace_id</th>\n",
       "      <th>current_id</th>\n",
       "      <th>previous_events</th>\n",
       "      <th>alignment</th>\n",
       "      <th>cost_of_alignment</th>\n",
       "    </tr>\n",
       "  </thead>\n",
       "  <tbody>\n",
       "  </tbody>\n",
       "</table>\n",
       "</div>"
      ],
      "text/plain": [
       "Empty DataFrame\n",
       "Columns: [trace_id, current_id, previous_events, alignment, cost_of_alignment]\n",
       "Index: []"
      ]
     },
     "execution_count": 34,
     "metadata": {},
     "output_type": "execute_result"
    }
   ],
   "source": [
    "non_matching"
   ]
  },
  {
   "cell_type": "code",
   "execution_count": null,
   "id": "006fd042",
   "metadata": {},
   "outputs": [],
   "source": []
  },
  {
   "cell_type": "code",
   "execution_count": null,
   "id": "0549284a",
   "metadata": {},
   "outputs": [],
   "source": []
  }
 ],
 "metadata": {
  "kernelspec": {
   "display_name": "Python 3 (ipykernel)",
   "language": "python",
   "name": "python3"
  },
  "language_info": {
   "codemirror_mode": {
    "name": "ipython",
    "version": 3
   },
   "file_extension": ".py",
   "mimetype": "text/x-python",
   "name": "python",
   "nbconvert_exporter": "python",
   "pygments_lexer": "ipython3",
   "version": "3.10.14"
  }
 },
 "nbformat": 4,
 "nbformat_minor": 5
}
