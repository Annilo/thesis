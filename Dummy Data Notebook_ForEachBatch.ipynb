{
 "cells": [
  {
   "cell_type": "code",
   "execution_count": 0,
   "metadata": {
    "application/vnd.databricks.v1+cell": {
     "cellMetadata": {
      "byteLimit": 2048000,
      "rowLimit": 10000
     },
     "inputWidgets": {},
     "nuid": "6bf61588-d0c9-406f-ae61-969cb2938a60",
     "showTitle": false,
     "title": ""
    }
   },
   "outputs": [],
   "source": [
    "from pyspark.sql.functions import col, struct, explode, collect_list,lit,array,split, expr\n",
    "from pyspark.sql.types import StructType, StructField, StringType, ArrayType,FloatType,DoubleType,IntegerType,TimestampType\n",
    "from time import sleep\n",
    "from pyspark.sql.functions import udf\n",
    "from pyspark.sql import DataFrame,SparkSession\n",
    "import pyspark.sql.functions as F \n",
    "from pyspark.sql.functions import current_timestamp\n",
    "import datetime"
   ]
  },
  {
   "cell_type": "code",
   "execution_count": 0,
   "metadata": {
    "application/vnd.databricks.v1+cell": {
     "cellMetadata": {
      "byteLimit": 2048000,
      "implicitDf": true,
      "rowLimit": 10000
     },
     "inputWidgets": {},
     "nuid": "bfe8de66-2a0a-4f2b-8ad9-cb65c4ae6d3a",
     "showTitle": false,
     "title": ""
    }
   },
   "outputs": [
    {
     "output_type": "display_data",
     "data": {
      "text/html": [
       "<style scoped>\n",
       "  .table-result-container {\n",
       "    max-height: 300px;\n",
       "    overflow: auto;\n",
       "  }\n",
       "  table, th, td {\n",
       "    border: 1px solid black;\n",
       "    border-collapse: collapse;\n",
       "  }\n",
       "  th, td {\n",
       "    padding: 5px;\n",
       "  }\n",
       "  th {\n",
       "    text-align: left;\n",
       "  }\n",
       "</style><div class='table-result-container'><table class='table-result'><thead style='background-color: white'><tr><th>num_affected_rows</th><th>num_inserted_rows</th></tr></thead><tbody></tbody></table></div>"
      ]
     },
     "metadata": {
      "application/vnd.databricks.v1+output": {
       "addedWidgets": {},
       "aggData": [],
       "aggError": "",
       "aggOverflow": false,
       "aggSchema": [],
       "aggSeriesLimitReached": false,
       "aggType": "",
       "arguments": {},
       "columnCustomDisplayInfos": {},
       "data": [],
       "datasetInfos": [],
       "dbfsResultPath": null,
       "isJsonSchema": true,
       "metadata": {},
       "overflow": false,
       "plotOptions": {
        "customPlotOptions": {},
        "displayType": "table",
        "pivotAggregation": null,
        "pivotColumns": null,
        "xColumns": null,
        "yColumns": null
       },
       "removedWidgets": [],
       "schema": [
        {
         "metadata": "{}",
         "name": "num_affected_rows",
         "type": "\"long\""
        },
        {
         "metadata": "{}",
         "name": "num_inserted_rows",
         "type": "\"long\""
        }
       ],
       "type": "table"
      }
     },
     "output_type": "display_data"
    }
   ],
   "source": [
    "%sql\n",
    "CREATE OR REPLACE TABLE iws_model AS\n",
    "SELECT \"root\" AS node_id, \"-\" AS label, array(\"A\") AS children_labels, array(\"root-A\") AS children_id, \n",
    "    array(\n",
    "        struct(\"root-A\" AS node_id, \"A\" AS label, 1 as level, array() as events_between),\n",
    "        struct(\"root-A-B\" AS node_id, \"B\" AS label, 2 as level, array(\"A\") as events_between),\n",
    "        struct(\"root-A-B-X\" AS node_id, \"X\" AS label, 3 as level, array(\"A\",\"B\") as events_between), \n",
    "        struct(\"root-A-B-D\" AS node_id, \"D\" AS label, 3 as level, array(\"A\",\"B\") as events_between)\n",
    "    ) AS nth_children, 0 as level\n",
    "UNION ALL \n",
    "SELECT \"root-A\", \"A\", array(\"B\"), array(\"root-A-B\"), \n",
    "    array(\n",
    "        struct(\"root-A-B\" AS node_id, \"B\" AS label, 2 as level, array() as events_between),\n",
    "        struct(\"root-A-B-X\" AS node_id, \"X\" AS label, 3 as level, array(\"B\") as events_between),\n",
    "        struct(\"root-A-B-D\" AS node_id, \"D\" AS label, 3 as level, array(\"B\") as events_between),\n",
    "        struct(\"root-A-B-D-C\" AS node_id, \"C\" AS label, 4 as level, array(\"B\",\"D\") as events_between)\n",
    "    ),1\n",
    "UNION ALL \n",
    "SELECT \"root-A-B\", \"B\", array(\"X\", \"D\"), array(\"root-A-B-X\", \"root-A-B-D\"), \n",
    "    array(\n",
    "        struct(\"root-A-B-X\" AS node_id, \"X\" AS label, 3 as level, array() as events_between), -- \"A-B-C\" now \"A-B-X\"\n",
    "        struct(\"root-A-B-D\" AS node_id, \"D\" AS label, 3 as level, array() as events_between),\n",
    "        struct(\"root-A-B-D-C\" AS node_id, \"C\" AS label, 4 as level, array(\"D\") as events_between)\n",
    "    ),2\n",
    "UNION ALL \n",
    "SELECT \"root-A-B-X\", \"X\", array(), array(),\n",
    "    array(),3\n",
    "UNION ALL \n",
    "SELECT \"root-A-B-D\", \"D\", array(\"C\"), array(\"root-A-B-D-C\"), \n",
    "    array(\n",
    "        struct(\"root-A-B-D-C\" AS node_id, \"C\" AS label, 4 as level, array() as events_between),\n",
    "        struct(\"root-A-B-D-C-D\" AS node_id, \"D\" AS label, 5 as level, array(\"C\") as events_between),\n",
    "        struct(\"root-A-B-D-C-C\" AS node_id, \"C\" AS label, 5 as level, array(\"C\") as events_between)\n",
    "    ),3\n",
    "UNION ALL \n",
    "SELECT \"root-A-B-D-C\", \"C\", array(\"D\", \"C\"), array(\"root-A-B-D-C-D\", \"root-A-B-D-C-C\"), \n",
    "    array(\n",
    "        struct(\"root-A-B-D-C-D\" AS node_id, \"D\" AS label, 5 as level, array() as events_between),\n",
    "        struct(\"root-A-B-D-C-C\" AS node_id, \"C\" AS label, 5 as level, array() as events_between)\n",
    "    ),4\n",
    "UNION ALL \n",
    "SELECT \"root-A-B-D-C-D\", \"D\", array(), array(), array(),5\n",
    "UNION ALL \n",
    "SELECT \"root-A-B-D-C-C\", \"C\", array(), array(), array(),5;\n",
    "\n",
    "\n"
   ]
  },
  {
   "cell_type": "code",
   "execution_count": 0,
   "metadata": {
    "application/vnd.databricks.v1+cell": {
     "cellMetadata": {
      "byteLimit": 2048000,
      "implicitDf": true,
      "rowLimit": 10000
     },
     "inputWidgets": {},
     "nuid": "2f292085-67a5-4cf8-8696-86329d46e716",
     "showTitle": false,
     "title": ""
    }
   },
   "outputs": [
    {
     "output_type": "display_data",
     "data": {
      "text/html": [
       "<style scoped>\n",
       "  .table-result-container {\n",
       "    max-height: 300px;\n",
       "    overflow: auto;\n",
       "  }\n",
       "  table, th, td {\n",
       "    border: 1px solid black;\n",
       "    border-collapse: collapse;\n",
       "  }\n",
       "  th, td {\n",
       "    padding: 5px;\n",
       "  }\n",
       "  th {\n",
       "    text-align: left;\n",
       "  }\n",
       "</style><div class='table-result-container'><table class='table-result'><thead style='background-color: white'><tr></tr></thead><tbody></tbody></table></div>"
      ]
     },
     "metadata": {
      "application/vnd.databricks.v1+output": {
       "addedWidgets": {},
       "aggData": [],
       "aggError": "",
       "aggOverflow": false,
       "aggSchema": [],
       "aggSeriesLimitReached": false,
       "aggType": "",
       "arguments": {},
       "columnCustomDisplayInfos": {},
       "data": [],
       "datasetInfos": [],
       "dbfsResultPath": null,
       "isJsonSchema": true,
       "metadata": {},
       "overflow": false,
       "plotOptions": {
        "customPlotOptions": {},
        "displayType": "table",
        "pivotAggregation": null,
        "pivotColumns": null,
        "xColumns": null,
        "yColumns": null
       },
       "removedWidgets": [],
       "schema": [],
       "type": "table"
      }
     },
     "output_type": "display_data"
    }
   ],
   "source": [
    "%sql\n",
    "CREATE OR REPLACE TABLE iws_event \n",
    "(event STRING,time_stamp TIMESTAMP,trace_id STRING);\n",
    "---SELECT \"A\" event, CURRENT_TIMESTAMP() time_stamp, \"trace_id_0\" trace_id;\n",
    "\n",
    "\n",
    "CREATE OR REPLACE TABLE iws_event_state\n",
    "(event STRING, time_stamp TIMESTAMP, trace_id STRING,processed STRING);\n",
    "CREATE OR REPLACE TABLE iws_labels\n",
    "SELECT \"A\" AS event, \"A\"  AS label\n",
    "UNION ALL\n",
    "SELECT \"B\",\"B\" \n",
    "UNION ALL\n",
    "SELECT \"C\",\"C\" \n",
    "UNION ALL\n",
    "SELECT \"D\",\"D\" \n",
    "UNION ALL\n",
    "SELECT \"X\",\"X\" ;\n",
    "\n",
    "CREATE OR REPLACE TABLE iws_state\n",
    "(trace_id STRING, ts TIMESTAMP, current_node STRING,current_id STRING,cost_of_alignment INTEGER,previous_events STRING, trace STRING, execution_sequence STRING,event_level\n",
    "INTEGER,current_node_level INTEGER);\n",
    "---event level to filter out the latest alignments later"
   ]
  },
  {
   "cell_type": "code",
   "execution_count": 0,
   "metadata": {
    "application/vnd.databricks.v1+cell": {
     "cellMetadata": {
      "byteLimit": 2048000,
      "rowLimit": 10000
     },
     "inputWidgets": {},
     "nuid": "95e0a54f-8c27-49c5-9ea6-f2a03e0aa9c6",
     "showTitle": false,
     "title": ""
    }
   },
   "outputs": [],
   "source": [
    "import random \n",
    "\n",
    "activities = [\"A\",\"B\",\"C\",\"D\",\"X\"]\n",
    "trace_id_lower = 0\n",
    "trace_id_upper = 9\n",
    "\n",
    "def insert_event(event=None, trace_id=None):\n",
    "    if not event:\n",
    "        event = random.choice(activities)\n",
    "    if not trace_id:\n",
    "        trace_id = 0 #random.randint(trace_id_lower, trace_id_upper)\n",
    "    spark.sql(f\"INSERT INTO iws_event SELECT '{event}', CURRENT_TIMESTAMP(), 'trace_id_{trace_id}'\")"
   ]
  },
  {
   "cell_type": "code",
   "execution_count": 0,
   "metadata": {
    "application/vnd.databricks.v1+cell": {
     "cellMetadata": {
      "byteLimit": 2048000,
      "rowLimit": 10000
     },
     "inputWidgets": {},
     "nuid": "81c878e7-763f-4aca-98a7-d83de3f33109",
     "showTitle": false,
     "title": ""
    }
   },
   "outputs": [],
   "source": [
    "event_df = spark.readStream.table(\"iws_event\").withWatermark(\"time_stamp\", \"1 minute\")\n",
    "event_df.createOrReplaceTempView(\"events\")"
   ]
  },
  {
   "cell_type": "code",
   "execution_count": 0,
   "metadata": {
    "application/vnd.databricks.v1+cell": {
     "cellMetadata": {
      "byteLimit": 2048000,
      "rowLimit": 10000
     },
     "inputWidgets": {},
     "nuid": "fdb7dcf5-da99-41d3-b12f-7506aa660da6",
     "showTitle": false,
     "title": ""
    }
   },
   "outputs": [
    {
     "output_type": "display_data",
     "data": {
      "text/html": [
       "<style scoped>\n",
       "  .ansiout {\n",
       "    display: block;\n",
       "    unicode-bidi: embed;\n",
       "    white-space: pre-wrap;\n",
       "    word-wrap: break-word;\n",
       "    word-break: break-all;\n",
       "    font-family: \"Menlo\", \"Monaco\", \"Consolas\", \"Ubuntu Mono\", \"Source Code Pro\", monospace;\n",
       "    font-size: 13px;\n",
       "    color: #555;\n",
       "    margin-left: 4px;\n",
       "    line-height: 19px;\n",
       "  }\n",
       "</style>\n",
       "<div class=\"ansiout\">import scala.collection.mutable.ArrayBuffer\n",
       "calculateAlignmentCost: (modelEvents: String, eventArray: Array[String])Array[(String, String, Int, Int)]\n",
       "res0: org.apache.spark.sql.expressions.UserDefinedFunction = SparkUserDefinedFunction($Lambda$13677/231547260@4756638e,ArrayType(StructType(StructField(_1,StringType,true),StructField(_2,StringType,true),StructField(_3,IntegerType,false),StructField(_4,IntegerType,false)),true),List(Some(class[value[0]: string]), Some(class[value[0]: array&lt;string&gt;])),Some(class[value[0]: array&lt;struct&lt;_1:string,_2:string,_3:int,_4:int&gt;&gt;]),Some(calculateAlignmentCost),true,true)\n",
       "</div>"
      ]
     },
     "metadata": {
      "application/vnd.databricks.v1+output": {
       "addedWidgets": {},
       "arguments": {},
       "data": "<div class=\"ansiout\">import scala.collection.mutable.ArrayBuffer\ncalculateAlignmentCost: (modelEvents: String, eventArray: Array[String])Array[(String, String, Int, Int)]\nres0: org.apache.spark.sql.expressions.UserDefinedFunction = SparkUserDefinedFunction($Lambda$13677/231547260@4756638e,ArrayType(StructType(StructField(_1,StringType,true),StructField(_2,StringType,true),StructField(_3,IntegerType,false),StructField(_4,IntegerType,false)),true),List(Some(class[value[0]: string]), Some(class[value[0]: array&lt;string&gt;])),Some(class[value[0]: array&lt;struct&lt;_1:string,_2:string,_3:int,_4:int&gt;&gt;]),Some(calculateAlignmentCost),true,true)\n</div>",
       "datasetInfos": [],
       "metadata": {
        "isDbfsCommandResult": false
       },
       "removedWidgets": [],
       "type": "html"
      }
     },
     "output_type": "display_data"
    }
   ],
   "source": [
    "%scala\n",
    "import scala.collection.mutable.ArrayBuffer\n",
    "\n",
    "def calculateAlignmentCost(modelEvents: String, eventArray: Array[String]): Array[(String, String, Int, Int)] = {\n",
    "  val newEvents = modelEvents.replace(\"-\", \"\").split(\"\")\n",
    "  val n = eventArray.length\n",
    "  val m = newEvents.length\n",
    "  val dp = Array.tabulate(n + 1, m + 1)((i, j) => if (i == 0) j else if (j == 0) i else 0)\n",
    "\n",
    "  if (modelEvents == \"\") {\n",
    "    return eventArray.zipWithIndex.map { case (event, index) =>\n",
    "      (event, \"log\", 1, index + 1)\n",
    "    }\n",
    "  }\n",
    "\n",
    "  // Fill the matrix\n",
    "  for (i <- 1 to n) {\n",
    "    for (j <- 1 to m) {\n",
    "      if (eventArray(i - 1) == newEvents(j - 1)) {\n",
    "        dp(i)(j) = dp(i - 1)(j - 1)\n",
    "      } else {\n",
    "        dp(i)(j) = math.min(dp(i - 1)(j) + 1, dp(i)(j - 1) + 1)\n",
    "      }\n",
    "    }\n",
    "  }\n",
    "\n",
    "  // Track back to build the alignment\n",
    "  val alignment = ArrayBuffer[(String, String, Int, Int)]()\n",
    "  var i = n\n",
    "  var j = m\n",
    "  var cost = dp(n)(m)\n",
    "\n",
    "  while (i > 0 && j > 0) {\n",
    "    if (eventArray(i - 1) == newEvents(j - 1)) {\n",
    "      alignment.prepend((eventArray(i - 1), \"sync\", 0, i))\n",
    "      i -= 1\n",
    "      j -= 1\n",
    "    } else if (dp(i)(j) == dp(i - 1)(j) + 1) {\n",
    "      alignment.prepend((eventArray(i - 1), \"log\", 1, i))\n",
    "      i -= 1\n",
    "    } else {\n",
    "      alignment.prepend((newEvents(j - 1), \"model\", 1, j))\n",
    "      j -= 1\n",
    "    }\n",
    "  }\n",
    "  // Handle any remaining elements necessary if there are trailing events in the beginning of the trace or model nodes\n",
    "  while (i > 0) {\n",
    "    alignment.prepend((eventArray(i - 1), \"log\", 1, i))\n",
    "    i -= 1\n",
    "  }\n",
    "  while (j > 0) {\n",
    "    alignment.prepend((newEvents(j - 1), \"model\", 1, j))\n",
    "    j -= 1\n",
    "  }\n",
    "\n",
    "\n",
    "  alignment.toArray\n",
    "}\n",
    "\n",
    "// Registering the UDF\n",
    "spark.udf.register(\"calculateAlignmentCost\", (modelEvents: String, eventArray: Array[String]) => calculateAlignmentCost(modelEvents, eventArray))\n"
   ]
  },
  {
   "cell_type": "code",
   "execution_count": 0,
   "metadata": {
    "application/vnd.databricks.v1+cell": {
     "cellMetadata": {
      "byteLimit": 2048000,
      "implicitDf": true,
      "rowLimit": 10000
     },
     "inputWidgets": {},
     "nuid": "799e833c-3d4a-4110-b5b4-59463e28271b",
     "showTitle": false,
     "title": ""
    }
   },
   "outputs": [
    {
     "output_type": "display_data",
     "data": {
      "text/html": [
       "<style scoped>\n",
       "  .table-result-container {\n",
       "    max-height: 300px;\n",
       "    overflow: auto;\n",
       "  }\n",
       "  table, th, td {\n",
       "    border: 1px solid black;\n",
       "    border-collapse: collapse;\n",
       "  }\n",
       "  th, td {\n",
       "    padding: 5px;\n",
       "  }\n",
       "  th {\n",
       "    text-align: left;\n",
       "  }\n",
       "</style><div class='table-result-container'><table class='table-result'><thead style='background-color: white'><tr></tr></thead><tbody></tbody></table></div>"
      ]
     },
     "metadata": {
      "application/vnd.databricks.v1+output": {
       "addedWidgets": {},
       "aggData": [],
       "aggError": "",
       "aggOverflow": false,
       "aggSchema": [],
       "aggSeriesLimitReached": false,
       "aggType": "",
       "arguments": {},
       "columnCustomDisplayInfos": {},
       "data": [],
       "datasetInfos": [],
       "dbfsResultPath": null,
       "isJsonSchema": true,
       "metadata": {},
       "overflow": false,
       "plotOptions": {
        "customPlotOptions": {},
        "displayType": "table",
        "pivotAggregation": null,
        "pivotColumns": null,
        "xColumns": null,
        "yColumns": null
       },
       "removedWidgets": [],
       "schema": [],
       "type": "table"
      }
     },
     "output_type": "display_data"
    }
   ],
   "source": [
    "%sql\n",
    "CREATE OR REPLACE TABLE state_test_batch_dummy\n",
    "(trace_id STRING, ts TIMESTAMP,current_id STRING,previous_events STRING,event_level INTEGER,current_node_level INTEGER,label STRING,alignment ARRAY<STRUCT<event String,move_type String>>,cost_of_alignment INTEGER,event_array ARRAY<STRING>,event_index INTEGER,batch_id INTEGER);"
   ]
  },
  {
   "cell_type": "code",
   "execution_count": 0,
   "metadata": {
    "application/vnd.databricks.v1+cell": {
     "cellMetadata": {
      "byteLimit": 2048000,
      "implicitDf": true,
      "rowLimit": 10000
     },
     "inputWidgets": {},
     "nuid": "5748f398-e46c-4d9d-9f78-b716645567a0",
     "showTitle": false,
     "title": ""
    }
   },
   "outputs": [
    {
     "output_type": "display_data",
     "data": {
      "text/html": [
       "<style scoped>\n",
       "  .table-result-container {\n",
       "    max-height: 300px;\n",
       "    overflow: auto;\n",
       "  }\n",
       "  table, th, td {\n",
       "    border: 1px solid black;\n",
       "    border-collapse: collapse;\n",
       "  }\n",
       "  th, td {\n",
       "    padding: 5px;\n",
       "  }\n",
       "  th {\n",
       "    text-align: left;\n",
       "  }\n",
       "</style><div class='table-result-container'><table class='table-result'><thead style='background-color: white'><tr></tr></thead><tbody></tbody></table></div>"
      ]
     },
     "metadata": {
      "application/vnd.databricks.v1+output": {
       "addedWidgets": {},
       "aggData": [],
       "aggError": "",
       "aggOverflow": false,
       "aggSchema": [],
       "aggSeriesLimitReached": false,
       "aggType": "",
       "arguments": {},
       "columnCustomDisplayInfos": {},
       "data": [],
       "datasetInfos": [],
       "dbfsResultPath": null,
       "isJsonSchema": true,
       "metadata": {},
       "overflow": false,
       "plotOptions": {
        "customPlotOptions": {},
        "displayType": "table",
        "pivotAggregation": null,
        "pivotColumns": null,
        "xColumns": null,
        "yColumns": null
       },
       "removedWidgets": [],
       "schema": [],
       "type": "table"
      }
     },
     "output_type": "display_data"
    }
   ],
   "source": [
    "%sql\n",
    "CREATE OR REPLACE temp VIEW stream_test_alignm_batch_dummy AS SELECT DISTINCT \n",
    "                trace_id,\n",
    "                current_id,\n",
    "                previous_events,\n",
    "                alignment,\n",
    "                cost_of_alignment,\n",
    "                event_level,\n",
    "                max_event_level as current_event_level,\n",
    "                current_node_level,\n",
    "                rn,\n",
    "                event_array,\n",
    "                event_index,\n",
    "                batch_id\n",
    "FROM   (\n",
    "        SELECT *,\n",
    "        Max(event_level) OVER (partition BY trace_id) AS max_event_level,\n",
    "        Row_number() OVER (partition BY trace_id,current_id ORDER BY event_level DESC,cost_of_alignment ASC, Len(previous_events) DESC) rn\n",
    "        FROM state_test_batch_dummy)\n",
    "WHERE rn = 1"
   ]
  },
  {
   "cell_type": "code",
   "execution_count": 0,
   "metadata": {
    "application/vnd.databricks.v1+cell": {
     "cellMetadata": {
      "byteLimit": 2048000,
      "rowLimit": 10000
     },
     "inputWidgets": {},
     "nuid": "ae6c912c-7cf6-435d-829e-e67bcf44d4b6",
     "showTitle": false,
     "title": ""
    }
   },
   "outputs": [],
   "source": [
    "def process_batch(df: DataFrame, batch_id: int):\n",
    "\n",
    "    if not df.isEmpty():\n",
    "        df.createOrReplaceTempView(\"streaming_data\")\n",
    "\n",
    "        result_df = df.sparkSession.sql(\"\"\"\n",
    "            WITH FIRST_BD AS (\n",
    "            SELECT *,substr(node_id FROM len(previous_id) + 1) model_sub, CASE WHEN len(substr(node_id FROM len(previous_id) + 1)) = 0 THEN 0 ELSE _event_index END as event_index  FROM (\n",
    "            SELECT\n",
    "                e.trace_id AS trace_id,\n",
    "                idx AS _event_index,\n",
    "                col.time_stamp AS time_stamp,\n",
    "                col.label AS incoming_label,\n",
    "                e.event_array.label AS event_array,\n",
    "                size(e.event_array) AS len,\n",
    "                COALESCE(r.current_id, 'root') AS previous_id,\n",
    "                COALESCE(r.cost_of_alignment, 0) AS cost_of_alignment,\n",
    "                COALESCE(r.previous_events, '') AS previous_events,\n",
    "                COALESCE(r.alignment, ARRAY(struct(\"\" AS event, \"\" AS move_type))) AS previous_alignment,\n",
    "                COALESCE(r.event_level, 0) AS event_level,\n",
    "                COALESCE(r.current_event_level, 0) AS current_event_level,\n",
    "                COALESCE(r.current_node_level, 0) AS current_node_level\n",
    "            FROM (\n",
    "                SELECT \n",
    "                    trace_id,\n",
    "                    array_sort(collect_list(struct(time_stamp, label))) AS event_array\n",
    "                FROM \n",
    "                    streaming_data e \n",
    "                JOIN \n",
    "                    iws_labels l ON e.event = l.event\n",
    "                GROUP BY trace_id\n",
    "            ) e\n",
    "            LEFT JOIN stream_test_alignm_batch_dummy r ON e.trace_id = r.trace_id \n",
    "            LATERAL VIEW posexplode(e.event_array) AS idx, col\n",
    "        ) f\n",
    "        JOIN iws_model m ON (m.node_id LIKE CONCAT(f.previous_id, '%') \n",
    "            AND m.level < f.current_node_level  + _event_index + 3 + 2\n",
    "            AND m.label = f.incoming_label) \n",
    "            OR (m.node_id = f.previous_id AND len = _event_index + 1)),\n",
    "MaxEventIndexPerTrace AS (\n",
    "    SELECT\n",
    "        trace_id as _trace_id,\n",
    "        MAX(event_index) AS max_event_index\n",
    "    FROM FIRST_BD\n",
    "    GROUP BY trace_id\n",
    "),\n",
    "BASE_DATA AS (SELECT * FROM FIRST_BD LEFT JOIN MaxEventIndexPerTrace on FIRST_BD.trace_id = MaxEventIndexPerTrace._trace_id WHERE event_index >= greatest(max_event_index-4,0))\n",
    "\n",
    "SELECT \n",
    "      trace_id,\n",
    "                time_stamp as ts,\n",
    "                node_id as current_id,\n",
    "                concat(previous_events,concat_ws(\"\",event_array)) as previous_events,\n",
    "                current_event_level + len as event_level,\n",
    "                level as current_node_level,\n",
    "                label,\n",
    "                CONCAT(\n",
    "                    previous_alignment,\n",
    "                    TRANSFORM(\n",
    "                        calc_alignment,\n",
    "                            x -> named_struct('event', x._1, 'move_type', x._2)\n",
    "                        )\n",
    "                 ) AS alignment,\n",
    "                cost_of_alignment + aggregate(calc_alignment._3, 0, (acc, x) -> acc + x) AS cost_of_alignment,\n",
    "                event_array,\n",
    "                event_index\n",
    "    FROM (\n",
    "        SELECT *,calculateAlignmentCost(substr(node_id FROM len(previous_id) + 1),event_array) as calc_alignment \n",
    "        FROM BASE_DATA\n",
    "            ) \n",
    "        \"\"\")\n",
    "        result_df = result_df.withColumn(\"batch_id\",F.lit(batch_id))\n",
    "        # Write the results of the SQL query to a Delta table\n",
    "        result_df.write.format(\"delta\").mode(\"append\").option(\"checkpointLocation\", \"/tmp/delta/state_append_30050/\").saveAsTable(\"state_test_batch_dummy\")\n",
    "\n",
    "# Set up the write stream using foreachBatch\n",
    "query = event_df.writeStream.foreachBatch(process_batch).start()\n",
    "#query.awaitTermination()"
   ]
  },
  {
   "cell_type": "code",
   "execution_count": 0,
   "metadata": {
    "application/vnd.databricks.v1+cell": {
     "cellMetadata": {
      "byteLimit": 2048000,
      "rowLimit": 10000
     },
     "inputWidgets": {},
     "nuid": "63abce54-7b8e-4b7c-bc06-c5991ff682e3",
     "showTitle": false,
     "title": ""
    }
   },
   "outputs": [],
   "source": [
    "insert_event(\"C\",0)\n",
    "#insert different events with different traces\n",
    "#At the moment inserted events are AXBAC"
   ]
  },
  {
   "cell_type": "code",
   "execution_count": 0,
   "metadata": {
    "application/vnd.databricks.v1+cell": {
     "cellMetadata": {
      "byteLimit": 2048000,
      "implicitDf": true,
      "rowLimit": 10000
     },
     "inputWidgets": {},
     "nuid": "82b47479-c9f6-4ed0-931a-a441fd3f6177",
     "showTitle": false,
     "title": ""
    }
   },
   "outputs": [
    {
     "output_type": "display_data",
     "data": {
      "text/html": [
       "<style scoped>\n",
       "  .table-result-container {\n",
       "    max-height: 300px;\n",
       "    overflow: auto;\n",
       "  }\n",
       "  table, th, td {\n",
       "    border: 1px solid black;\n",
       "    border-collapse: collapse;\n",
       "  }\n",
       "  th, td {\n",
       "    padding: 5px;\n",
       "  }\n",
       "  th {\n",
       "    text-align: left;\n",
       "  }\n",
       "</style><div class='table-result-container'><table class='table-result'><thead style='background-color: white'><tr><th>trace_id</th><th>current_id</th><th>previous_events</th><th>alignment</th><th>cost_of_alignment</th><th>event_level</th><th>current_event_level</th><th>current_node_level</th><th>rn</th><th>event_array</th><th>event_index</th><th>batch_id</th></tr></thead><tbody><tr><td>trace_id_0</td><td>root</td><td>AXBAC</td><td>List(List(, ), List(A, log), List(X, log), List(B, log), List(A, log), List(C, log))</td><td>5</td><td>5</td><td>5</td><td>0</td><td>1</td><td>List(C)</td><td>0</td><td>4</td></tr><tr><td>trace_id_0</td><td>root-A</td><td>AXBAC</td><td>List(List(, ), List(A, log), List(X, log), List(B, log), List(A, sync), List(C, log))</td><td>4</td><td>5</td><td>5</td><td>1</td><td>1</td><td>List(C)</td><td>0</td><td>4</td></tr><tr><td>trace_id_0</td><td>root-A-B</td><td>AXBAC</td><td>List(List(, ), List(A, sync), List(X, log), List(B, sync), List(A, log), List(C, log))</td><td>3</td><td>5</td><td>5</td><td>2</td><td>1</td><td>List(C)</td><td>0</td><td>4</td></tr><tr><td>trace_id_0</td><td>root-A-B-D-C</td><td>AXBAC</td><td>List(List(, ), List(A, sync), List(X, log), List(B, sync), List(A, log), List(D, model), List(C, sync))</td><td>3</td><td>5</td><td>5</td><td>4</td><td>1</td><td>List(C)</td><td>0</td><td>4</td></tr><tr><td>trace_id_0</td><td>root-A-B-D-C-C</td><td>AXBAC</td><td>List(List(, ), List(A, sync), List(X, log), List(B, sync), List(A, log), List(D, model), List(C, model), List(C, sync))</td><td>4</td><td>5</td><td>5</td><td>5</td><td>1</td><td>List(C)</td><td>0</td><td>4</td></tr><tr><td>trace_id_0</td><td>root-A-B-X</td><td>AXBAC</td><td>List(List(, ), List(A, sync), List(B, model), List(X, sync), List(B, log), List(A, log), List(C, log))</td><td>4</td><td>5</td><td>5</td><td>3</td><td>1</td><td>List(C)</td><td>0</td><td>4</td></tr></tbody></table></div>"
      ]
     },
     "metadata": {
      "application/vnd.databricks.v1+output": {
       "addedWidgets": {},
       "aggData": [],
       "aggError": "",
       "aggOverflow": false,
       "aggSchema": [],
       "aggSeriesLimitReached": false,
       "aggType": "",
       "arguments": {},
       "columnCustomDisplayInfos": {},
       "data": [
        [
         "trace_id_0",
         "root",
         "AXBAC",
         [
          [
           "",
           ""
          ],
          [
           "A",
           "log"
          ],
          [
           "X",
           "log"
          ],
          [
           "B",
           "log"
          ],
          [
           "A",
           "log"
          ],
          [
           "C",
           "log"
          ]
         ],
         5,
         5,
         5,
         0,
         1,
         [
          "C"
         ],
         0,
         4
        ],
        [
         "trace_id_0",
         "root-A",
         "AXBAC",
         [
          [
           "",
           ""
          ],
          [
           "A",
           "log"
          ],
          [
           "X",
           "log"
          ],
          [
           "B",
           "log"
          ],
          [
           "A",
           "sync"
          ],
          [
           "C",
           "log"
          ]
         ],
         4,
         5,
         5,
         1,
         1,
         [
          "C"
         ],
         0,
         4
        ],
        [
         "trace_id_0",
         "root-A-B",
         "AXBAC",
         [
          [
           "",
           ""
          ],
          [
           "A",
           "sync"
          ],
          [
           "X",
           "log"
          ],
          [
           "B",
           "sync"
          ],
          [
           "A",
           "log"
          ],
          [
           "C",
           "log"
          ]
         ],
         3,
         5,
         5,
         2,
         1,
         [
          "C"
         ],
         0,
         4
        ],
        [
         "trace_id_0",
         "root-A-B-D-C",
         "AXBAC",
         [
          [
           "",
           ""
          ],
          [
           "A",
           "sync"
          ],
          [
           "X",
           "log"
          ],
          [
           "B",
           "sync"
          ],
          [
           "A",
           "log"
          ],
          [
           "D",
           "model"
          ],
          [
           "C",
           "sync"
          ]
         ],
         3,
         5,
         5,
         4,
         1,
         [
          "C"
         ],
         0,
         4
        ],
        [
         "trace_id_0",
         "root-A-B-D-C-C",
         "AXBAC",
         [
          [
           "",
           ""
          ],
          [
           "A",
           "sync"
          ],
          [
           "X",
           "log"
          ],
          [
           "B",
           "sync"
          ],
          [
           "A",
           "log"
          ],
          [
           "D",
           "model"
          ],
          [
           "C",
           "model"
          ],
          [
           "C",
           "sync"
          ]
         ],
         4,
         5,
         5,
         5,
         1,
         [
          "C"
         ],
         0,
         4
        ],
        [
         "trace_id_0",
         "root-A-B-X",
         "AXBAC",
         [
          [
           "",
           ""
          ],
          [
           "A",
           "sync"
          ],
          [
           "B",
           "model"
          ],
          [
           "X",
           "sync"
          ],
          [
           "B",
           "log"
          ],
          [
           "A",
           "log"
          ],
          [
           "C",
           "log"
          ]
         ],
         4,
         5,
         5,
         3,
         1,
         [
          "C"
         ],
         0,
         4
        ]
       ],
       "datasetInfos": [],
       "dbfsResultPath": null,
       "isJsonSchema": true,
       "metadata": {},
       "overflow": false,
       "plotOptions": {
        "customPlotOptions": {},
        "displayType": "table",
        "pivotAggregation": null,
        "pivotColumns": null,
        "xColumns": null,
        "yColumns": null
       },
       "removedWidgets": [],
       "schema": [
        {
         "metadata": "{}",
         "name": "trace_id",
         "type": "\"string\""
        },
        {
         "metadata": "{}",
         "name": "current_id",
         "type": "\"string\""
        },
        {
         "metadata": "{}",
         "name": "previous_events",
         "type": "\"string\""
        },
        {
         "metadata": "{}",
         "name": "alignment",
         "type": "{\"type\":\"array\",\"elementType\":{\"type\":\"struct\",\"fields\":[{\"name\":\"event\",\"type\":\"string\",\"nullable\":true,\"metadata\":{}},{\"name\":\"move_type\",\"type\":\"string\",\"nullable\":true,\"metadata\":{}}]},\"containsNull\":true}"
        },
        {
         "metadata": "{}",
         "name": "cost_of_alignment",
         "type": "\"integer\""
        },
        {
         "metadata": "{}",
         "name": "event_level",
         "type": "\"integer\""
        },
        {
         "metadata": "{}",
         "name": "current_event_level",
         "type": "\"integer\""
        },
        {
         "metadata": "{}",
         "name": "current_node_level",
         "type": "\"integer\""
        },
        {
         "metadata": "{}",
         "name": "rn",
         "type": "\"integer\""
        },
        {
         "metadata": "{}",
         "name": "event_array",
         "type": "{\"type\":\"array\",\"elementType\":\"string\",\"containsNull\":true}"
        },
        {
         "metadata": "{}",
         "name": "event_index",
         "type": "\"integer\""
        },
        {
         "metadata": "{}",
         "name": "batch_id",
         "type": "\"integer\""
        }
       ],
       "type": "table"
      }
     },
     "output_type": "display_data"
    }
   ],
   "source": [
    "%sql\n",
    "select * from stream_test_alignm_batch_dummy"
   ]
  },
  {
   "cell_type": "code",
   "execution_count": 0,
   "metadata": {
    "application/vnd.databricks.v1+cell": {
     "cellMetadata": {
      "byteLimit": 2048000,
      "implicitDf": true,
      "rowLimit": 10000
     },
     "inputWidgets": {},
     "nuid": "da6730f3-0274-472e-8f11-428485e651d1",
     "showTitle": false,
     "title": ""
    }
   },
   "outputs": [
    {
     "output_type": "display_data",
     "data": {
      "text/html": [
       "<style scoped>\n",
       "  .table-result-container {\n",
       "    max-height: 300px;\n",
       "    overflow: auto;\n",
       "  }\n",
       "  table, th, td {\n",
       "    border: 1px solid black;\n",
       "    border-collapse: collapse;\n",
       "  }\n",
       "  th, td {\n",
       "    padding: 5px;\n",
       "  }\n",
       "  th {\n",
       "    text-align: left;\n",
       "  }\n",
       "</style><div class='table-result-container'><table class='table-result'><thead style='background-color: white'><tr><th>trace_id</th><th>current_id</th><th>previous_events</th><th>slice(alignment, 2, size(alignment))</th><th>cost_of_alignment</th></tr></thead><tbody><tr><td>trace_id_0</td><td>root-A-B</td><td>AXBAC</td><td>List(List(A, sync), List(X, log), List(B, sync), List(A, log), List(C, log))</td><td>3</td></tr><tr><td>trace_id_0</td><td>root-A-B-D-C</td><td>AXBAC</td><td>List(List(A, sync), List(X, log), List(B, sync), List(A, log), List(D, model), List(C, sync))</td><td>3</td></tr></tbody></table></div>"
      ]
     },
     "metadata": {
      "application/vnd.databricks.v1+output": {
       "addedWidgets": {},
       "aggData": [],
       "aggError": "",
       "aggOverflow": false,
       "aggSchema": [],
       "aggSeriesLimitReached": false,
       "aggType": "",
       "arguments": {},
       "columnCustomDisplayInfos": {},
       "data": [
        [
         "trace_id_0",
         "root-A-B",
         "AXBAC",
         [
          [
           "A",
           "sync"
          ],
          [
           "X",
           "log"
          ],
          [
           "B",
           "sync"
          ],
          [
           "A",
           "log"
          ],
          [
           "C",
           "log"
          ]
         ],
         3
        ],
        [
         "trace_id_0",
         "root-A-B-D-C",
         "AXBAC",
         [
          [
           "A",
           "sync"
          ],
          [
           "X",
           "log"
          ],
          [
           "B",
           "sync"
          ],
          [
           "A",
           "log"
          ],
          [
           "D",
           "model"
          ],
          [
           "C",
           "sync"
          ]
         ],
         3
        ]
       ],
       "datasetInfos": [],
       "dbfsResultPath": null,
       "isJsonSchema": true,
       "metadata": {},
       "overflow": false,
       "plotOptions": {
        "customPlotOptions": {},
        "displayType": "table",
        "pivotAggregation": null,
        "pivotColumns": null,
        "xColumns": null,
        "yColumns": null
       },
       "removedWidgets": [],
       "schema": [
        {
         "metadata": "{}",
         "name": "trace_id",
         "type": "\"string\""
        },
        {
         "metadata": "{}",
         "name": "current_id",
         "type": "\"string\""
        },
        {
         "metadata": "{}",
         "name": "previous_events",
         "type": "\"string\""
        },
        {
         "metadata": "{\"__autoGeneratedAlias\":\"true\"}",
         "name": "slice(alignment, 2, size(alignment))",
         "type": "{\"type\":\"array\",\"elementType\":{\"type\":\"struct\",\"fields\":[{\"name\":\"event\",\"type\":\"string\",\"nullable\":true,\"metadata\":{}},{\"name\":\"move_type\",\"type\":\"string\",\"nullable\":true,\"metadata\":{}}]},\"containsNull\":true}"
        },
        {
         "metadata": "{}",
         "name": "cost_of_alignment",
         "type": "\"integer\""
        }
       ],
       "type": "table"
      }
     },
     "output_type": "display_data"
    }
   ],
   "source": [
    "%sql\n",
    "SELECT trace_id,current_id,previous_events,slice(alignment, 2, size(alignment)),cost_of_alignment\n",
    "FROM stream_test_alignm_batch_dummy\n",
    "WHERE (trace_id, cost_of_alignment) IN (\n",
    "    SELECT trace_id, MIN(cost_of_alignment)\n",
    "    FROM stream_test_alignm_batch_dummy\n",
    "    GROUP BY trace_id\n",
    ");\n",
    "--- select the final optimal prefix alignments"
   ]
  }
 ],
 "metadata": {
  "application/vnd.databricks.v1+notebook": {
   "dashboards": [],
   "environmentMetadata": null,
   "language": "python",
   "notebookMetadata": {
    "mostRecentlyExecutedCommandWithImplicitDF": {
     "commandId": 2815127337314216,
     "dataframes": [
      "_sqldf"
     ]
    },
    "pythonIndentUnit": 4
   },
   "notebookName": "Dummy Data Notebook_ForEachBatch",
   "widgets": {}
  }
 },
 "nbformat": 4,
 "nbformat_minor": 0
}
