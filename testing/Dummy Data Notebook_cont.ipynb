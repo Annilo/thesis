{
 "cells": [
  {
   "cell_type": "code",
   "execution_count": 0,
   "metadata": {
    "application/vnd.databricks.v1+cell": {
     "cellMetadata": {
      "byteLimit": 2048000,
      "rowLimit": 10000
     },
     "inputWidgets": {},
     "nuid": "6bf61588-d0c9-406f-ae61-969cb2938a60",
     "showTitle": false,
     "title": ""
    }
   },
   "outputs": [],
   "source": [
    "from pyspark.sql.functions import col, struct, explode, collect_list,lit,array,split, expr\n",
    "from pyspark.sql.types import StructType, StructField, StringType, ArrayType,FloatType,DoubleType,IntegerType,TimestampType\n",
    "from time import sleep\n",
    "from pyspark.sql.functions import udf\n",
    "from pyspark.sql import DataFrame,SparkSession\n",
    "import pyspark.sql.functions as F \n",
    "from pyspark.sql.functions import current_timestamp\n",
    "import datetime"
   ]
  },
  {
   "cell_type": "code",
   "execution_count": 0,
   "metadata": {
    "application/vnd.databricks.v1+cell": {
     "cellMetadata": {
      "byteLimit": 2048000,
      "implicitDf": true,
      "rowLimit": 10000
     },
     "inputWidgets": {},
     "nuid": "bfe8de66-2a0a-4f2b-8ad9-cb65c4ae6d3a",
     "showTitle": false,
     "title": ""
    }
   },
   "outputs": [
    {
     "output_type": "display_data",
     "data": {
      "text/html": [
       "<style scoped>\n",
       "  .table-result-container {\n",
       "    max-height: 300px;\n",
       "    overflow: auto;\n",
       "  }\n",
       "  table, th, td {\n",
       "    border: 1px solid black;\n",
       "    border-collapse: collapse;\n",
       "  }\n",
       "  th, td {\n",
       "    padding: 5px;\n",
       "  }\n",
       "  th {\n",
       "    text-align: left;\n",
       "  }\n",
       "</style><div class='table-result-container'><table class='table-result'><thead style='background-color: white'><tr><th>num_affected_rows</th><th>num_inserted_rows</th></tr></thead><tbody></tbody></table></div>"
      ]
     },
     "metadata": {
      "application/vnd.databricks.v1+output": {
       "addedWidgets": {},
       "aggData": [],
       "aggError": "",
       "aggOverflow": false,
       "aggSchema": [],
       "aggSeriesLimitReached": false,
       "aggType": "",
       "arguments": {},
       "columnCustomDisplayInfos": {},
       "data": [],
       "datasetInfos": [],
       "dbfsResultPath": null,
       "isJsonSchema": true,
       "metadata": {},
       "overflow": false,
       "plotOptions": {
        "customPlotOptions": {},
        "displayType": "table",
        "pivotAggregation": null,
        "pivotColumns": null,
        "xColumns": null,
        "yColumns": null
       },
       "removedWidgets": [],
       "schema": [
        {
         "metadata": "{}",
         "name": "num_affected_rows",
         "type": "\"long\""
        },
        {
         "metadata": "{}",
         "name": "num_inserted_rows",
         "type": "\"long\""
        }
       ],
       "type": "table"
      }
     },
     "output_type": "display_data"
    }
   ],
   "source": [
    "%sql\n",
    "CREATE OR REPLACE TABLE iws_model AS\n",
    "SELECT \"root\" AS node_id, \"-\" AS label, array(\"A\") AS children_labels, array(\"root-A\") AS children_id, \n",
    "    array(\n",
    "        struct(\"root-A\" AS node_id, \"A\" AS label, 1 as level, array() as events_between),\n",
    "        struct(\"root-A-B\" AS node_id, \"B\" AS label, 2 as level, array(\"A\") as events_between),\n",
    "        struct(\"root-A-B-X\" AS node_id, \"X\" AS label, 3 as level, array(\"A\",\"B\") as events_between), \n",
    "        struct(\"root-A-B-D\" AS node_id, \"D\" AS label, 3 as level, array(\"A\",\"B\") as events_between)\n",
    "    ) AS nth_children, 0 as level\n",
    "UNION ALL \n",
    "SELECT \"root-A\", \"A\", array(\"B\"), array(\"root-A-B\"), \n",
    "    array(\n",
    "        struct(\"root-A-B\" AS node_id, \"B\" AS label, 2 as level, array() as events_between),\n",
    "        struct(\"root-A-B-X\" AS node_id, \"X\" AS label, 3 as level, array(\"B\") as events_between),\n",
    "        struct(\"root-A-B-D\" AS node_id, \"D\" AS label, 3 as level, array(\"B\") as events_between),\n",
    "        struct(\"root-A-B-D-C\" AS node_id, \"C\" AS label, 4 as level, array(\"B\",\"D\") as events_between)\n",
    "    ),1\n",
    "UNION ALL \n",
    "SELECT \"root-A-B\", \"B\", array(\"X\", \"D\"), array(\"root-A-B-X\", \"root-A-B-D\"), \n",
    "    array(\n",
    "        struct(\"root-A-B-X\" AS node_id, \"X\" AS label, 3 as level, array() as events_between), -- \"A-B-C\" now \"A-B-X\"\n",
    "        struct(\"root-A-B-D\" AS node_id, \"D\" AS label, 3 as level, array() as events_between),\n",
    "        struct(\"root-A-B-D-C\" AS node_id, \"C\" AS label, 4 as level, array(\"D\") as events_between)\n",
    "    ),2\n",
    "UNION ALL \n",
    "SELECT \"root-A-B-X\", \"X\", array(), array(),\n",
    "    array(),3\n",
    "UNION ALL \n",
    "SELECT \"root-A-B-D\", \"D\", array(\"C\"), array(\"root-A-B-D-C\"), \n",
    "    array(\n",
    "        struct(\"root-A-B-D-C\" AS node_id, \"C\" AS label, 4 as level, array() as events_between),\n",
    "        struct(\"root-A-B-D-C-D\" AS node_id, \"D\" AS label, 5 as level, array(\"C\") as events_between),\n",
    "        struct(\"root-A-B-D-C-C\" AS node_id, \"C\" AS label, 5 as level, array(\"C\") as events_between)\n",
    "    ),3\n",
    "UNION ALL \n",
    "SELECT \"root-A-B-D-C\", \"C\", array(\"D\", \"C\"), array(\"root-A-B-D-C-D\", \"root-A-B-D-C-C\"), \n",
    "    array(\n",
    "        struct(\"root-A-B-D-C-D\" AS node_id, \"D\" AS label, 5 as level, array() as events_between),\n",
    "        struct(\"root-A-B-D-C-C\" AS node_id, \"C\" AS label, 5 as level, array() as events_between)\n",
    "    ),4\n",
    "UNION ALL \n",
    "SELECT \"root-A-B-D-C-D\", \"D\", array(), array(), array(),5\n",
    "UNION ALL \n",
    "SELECT \"root-A-B-D-C-C\", \"C\", array(), array(), array(),5;\n",
    "\n",
    "\n"
   ]
  },
  {
   "cell_type": "code",
   "execution_count": 0,
   "metadata": {
    "application/vnd.databricks.v1+cell": {
     "cellMetadata": {
      "byteLimit": 2048000,
      "implicitDf": true,
      "rowLimit": 10000
     },
     "inputWidgets": {},
     "nuid": "2f292085-67a5-4cf8-8696-86329d46e716",
     "showTitle": false,
     "title": ""
    }
   },
   "outputs": [
    {
     "output_type": "display_data",
     "data": {
      "text/html": [
       "<style scoped>\n",
       "  .table-result-container {\n",
       "    max-height: 300px;\n",
       "    overflow: auto;\n",
       "  }\n",
       "  table, th, td {\n",
       "    border: 1px solid black;\n",
       "    border-collapse: collapse;\n",
       "  }\n",
       "  th, td {\n",
       "    padding: 5px;\n",
       "  }\n",
       "  th {\n",
       "    text-align: left;\n",
       "  }\n",
       "</style><div class='table-result-container'><table class='table-result'><thead style='background-color: white'><tr></tr></thead><tbody></tbody></table></div>"
      ]
     },
     "metadata": {
      "application/vnd.databricks.v1+output": {
       "addedWidgets": {},
       "aggData": [],
       "aggError": "",
       "aggOverflow": false,
       "aggSchema": [],
       "aggSeriesLimitReached": false,
       "aggType": "",
       "arguments": {},
       "columnCustomDisplayInfos": {},
       "data": [],
       "datasetInfos": [],
       "dbfsResultPath": null,
       "isJsonSchema": true,
       "metadata": {},
       "overflow": false,
       "plotOptions": {
        "customPlotOptions": {},
        "displayType": "table",
        "pivotAggregation": null,
        "pivotColumns": null,
        "xColumns": null,
        "yColumns": null
       },
       "removedWidgets": [],
       "schema": [],
       "type": "table"
      }
     },
     "output_type": "display_data"
    }
   ],
   "source": [
    "%sql\n",
    "CREATE OR REPLACE TABLE iws_event \n",
    "(event STRING,time_stamp TIMESTAMP,trace_id STRING);\n",
    "---SELECT \"A\" event, CURRENT_TIMESTAMP() time_stamp, \"trace_id_0\" trace_id;\n",
    "\n",
    "\n",
    "CREATE OR REPLACE TABLE iws_event_state\n",
    "(event STRING, time_stamp TIMESTAMP, trace_id STRING,processed STRING);\n",
    "CREATE OR REPLACE TABLE iws_labels\n",
    "SELECT \"A\" AS event, \"A\"  AS label\n",
    "UNION ALL\n",
    "SELECT \"B\",\"B\" \n",
    "UNION ALL\n",
    "SELECT \"C\",\"C\" \n",
    "UNION ALL\n",
    "SELECT \"D\",\"D\" \n",
    "UNION ALL\n",
    "SELECT \"X\",\"X\" ;\n",
    "\n",
    "CREATE OR REPLACE TABLE iws_state\n",
    "(trace_id STRING, ts TIMESTAMP, current_node STRING,current_id STRING,cost_of_alignment INTEGER, trace STRING, execution_sequence STRING,event_level INTEGER,current_event_level INTEGER,current_node_level INTEGER,previous_events STRING);\n",
    "---event level to filter out the latest alignments later"
   ]
  },
  {
   "cell_type": "code",
   "execution_count": 0,
   "metadata": {
    "application/vnd.databricks.v1+cell": {
     "cellMetadata": {
      "byteLimit": 2048000,
      "rowLimit": 10000
     },
     "inputWidgets": {},
     "nuid": "95e0a54f-8c27-49c5-9ea6-f2a03e0aa9c6",
     "showTitle": false,
     "title": ""
    }
   },
   "outputs": [],
   "source": [
    "import random \n",
    "\n",
    "activities = [\"A\",\"B\",\"C\",\"D\",\"X\"]\n",
    "trace_id_lower = 0\n",
    "trace_id_upper = 9\n",
    "\n",
    "def insert_event(event=None, trace_id=None):\n",
    "    if not event:\n",
    "        event = random.choice(activities)\n",
    "    if not trace_id:\n",
    "        trace_id = 0 #random.randint(trace_id_lower, trace_id_upper)\n",
    "    spark.sql(f\"INSERT INTO iws_event SELECT '{event}', CURRENT_TIMESTAMP(), 'trace_id_{trace_id}'\")"
   ]
  },
  {
   "cell_type": "code",
   "execution_count": 0,
   "metadata": {
    "application/vnd.databricks.v1+cell": {
     "cellMetadata": {
      "byteLimit": 2048000,
      "rowLimit": 10000
     },
     "inputWidgets": {},
     "nuid": "81c878e7-763f-4aca-98a7-d83de3f33109",
     "showTitle": false,
     "title": ""
    }
   },
   "outputs": [],
   "source": [
    "event_df = spark.readStream.table(\"iws_event\").withWatermark(\"time_stamp\", \"1 minute\")\n",
    "event_df.createOrReplaceTempView(\"events\")"
   ]
  },
  {
   "cell_type": "code",
   "execution_count": 0,
   "metadata": {
    "application/vnd.databricks.v1+cell": {
     "cellMetadata": {
      "byteLimit": 2048000,
      "implicitDf": true,
      "rowLimit": 10000
     },
     "inputWidgets": {},
     "nuid": "8350d7f8-d5f9-4f61-981d-d66fb055233e",
     "showTitle": false,
     "title": ""
    }
   },
   "outputs": [
    {
     "output_type": "display_data",
     "data": {
      "text/html": [
       "<style scoped>\n",
       "  .table-result-container {\n",
       "    max-height: 300px;\n",
       "    overflow: auto;\n",
       "  }\n",
       "  table, th, td {\n",
       "    border: 1px solid black;\n",
       "    border-collapse: collapse;\n",
       "  }\n",
       "  th, td {\n",
       "    padding: 5px;\n",
       "  }\n",
       "  th {\n",
       "    text-align: left;\n",
       "  }\n",
       "</style><div class='table-result-container'><table class='table-result'><thead style='background-color: white'><tr></tr></thead><tbody></tbody></table></div>"
      ]
     },
     "metadata": {
      "application/vnd.databricks.v1+output": {
       "addedWidgets": {},
       "aggData": [],
       "aggError": "",
       "aggOverflow": false,
       "aggSchema": [],
       "aggSeriesLimitReached": false,
       "aggType": "",
       "arguments": {},
       "columnCustomDisplayInfos": {},
       "data": [],
       "datasetInfos": [],
       "dbfsResultPath": null,
       "isJsonSchema": true,
       "metadata": {},
       "overflow": false,
       "plotOptions": {
        "customPlotOptions": {},
        "displayType": "table",
        "pivotAggregation": null,
        "pivotColumns": null,
        "xColumns": null,
        "yColumns": null
       },
       "removedWidgets": [],
       "schema": [],
       "type": "table"
      }
     },
     "output_type": "display_data"
    }
   ],
   "source": [
    "%sql\n",
    "CREATE OR REPLACE TEMP VIEW latest_state AS \n",
    "SELECT DISTINCT trace_id, ts, current_node, current_id, cost_of_alignment,previous_events,trace,execution_sequence,event_level, max_event_level as current_event_level,current_node_level,rn FROM (\n",
    "SELECT *, row_number() OVER (PARTITION BY trace_id,current_id order by event_level desc,cost_of_alignment asc, len(previous_events) desc) rn,\n",
    "max(event_level) OVER (PARTITION BY trace_id) AS max_event_level FROM iws_state\n",
    ") WHERE rn = 1 --and event_level > current_event_level -2"
   ]
  },
  {
   "cell_type": "code",
   "execution_count": 0,
   "metadata": {
    "application/vnd.databricks.v1+cell": {
     "cellMetadata": {
      "byteLimit": 2048000,
      "implicitDf": true,
      "rowLimit": 10000
     },
     "inputWidgets": {},
     "nuid": "a41c94af-5e81-42db-bb39-12042769a7cb",
     "showTitle": false,
     "title": ""
    }
   },
   "outputs": [
    {
     "output_type": "stream",
     "name": "stdout",
     "output_type": "stream",
     "text": [
      "Out[12]: <pyspark.sql.streaming.query.StreamingQuery at 0x7f96b042cac0>"
     ]
    }
   ],
   "source": [
    "#if looking at older events, cost should be difference in event levels also number of skips >> between is same number\n",
    "#current level -> used to track what event the state is from if the state is used in the future\n",
    "#event level -> used to track the current event level (how many events there have been)\n",
    "#current_node_level -> used to track what level the node is, used in calculation\n",
    "spark.sql(\"\"\"\n",
    "SELECT trace_id,ts,exploded.*,previous_events FROM(\n",
    "SELECT trace_id,ts,concat(model_moves,exploded_struct) as sub_exploded,previous_events FROM(\n",
    "SELECT \n",
    "      e.trace_id, \n",
    "      e.time_stamp as ts,\n",
    "      e.og_event,\n",
    "      concat(e.previous_events,e.event) as previous_events,\n",
    "      transform(\n",
    "        filter(m.nth_children, x -> x.label LIKE e.event),\n",
    "        x -> struct(e.event as current_node, x.node_id as current_id, e.cost_of_alignment + abs(x.level - current_node_level-1) + current_event_level - event_level as cost_of_alignment,  concat(coalesce(trace,\"root\"),repeat(\">>\",abs(x.level - current_node_level-1)),e.event) as trace,CONCAT(execution_sequence, coalesce(CONCAT_WS('', x.events_between)),e.event) as execution_sequence, current_event_level+1 as event_level, current_event_level + 1 as current_event_level,x.level as current_node_level)\n",
    "      ) as model_moves,\n",
    "      array(struct(e.current_node as current_node, m.node_id as current_id, e.cost_of_alignment + e.current_event_level - e.event_level + 1 as cost_of_alignment, concat(trace, e.event) as trace, concat(execution_sequence, \">>\")as execution_sequence, e.current_event_level + 1 as event_level, current_event_level + 1 as current_event_level, current_node_level))\n",
    "      AS exploded_struct\n",
    "    FROM \n",
    "      (SELECT e.trace_id,e.time_stamp,e.event as og_event, l.label as event, COALESCE(r.current_node, \"-\") as current_node, COALESCE(r.current_id, \"root\") as current_id, coalesce(cost_of_alignment, 0) as cost_of_alignment, coalesce(r.previous_events,\"\") as previous_events , coalesce(trace,\"\") as trace, coalesce(execution_sequence,\"\") as execution_sequence, coalesce(event_level, 0) as event_level, coalesce(current_event_level, 0) as current_event_level,coalesce(current_node_level,0) as current_node_level FROM events e LEFT JOIN latest_state r ON e.trace_id = r.trace_id JOIN iws_labels l on e.event = l.event) e \n",
    "    JOIN iws_model m ON e.current_id = m.node_id ))\n",
    "  LATERAL VIEW explode(sub_exploded) t AS exploded\n",
    "\"\"\").writeStream.format(\"delta\").outputMode(\"append\").option(\"checkpointLocation\",\"/tmp/delta/state_append_120/\").toTable(\"iws_state\")"
   ]
  },
  {
   "cell_type": "code",
   "execution_count": 0,
   "metadata": {
    "application/vnd.databricks.v1+cell": {
     "cellMetadata": {
      "byteLimit": 2048000,
      "rowLimit": 10000
     },
     "inputWidgets": {},
     "nuid": "63abce54-7b8e-4b7c-bc06-c5991ff682e3",
     "showTitle": false,
     "title": ""
    }
   },
   "outputs": [],
   "source": [
    "insert_event(\"A\",3)\n",
    "sleep(10)\n",
    "insert_event(\"X\",3)\n",
    "sleep(10)\n",
    "insert_event(\"B\",3)\n",
    "sleep(10)\n",
    "insert_event(\"A\",3)\n",
    "sleep(10)\n",
    "insert_event(\"C\",3)\n",
    "#insert different events with different traces\n",
    "#At the moment inserted events are AXBAC"
   ]
  },
  {
   "cell_type": "code",
   "execution_count": 0,
   "metadata": {
    "application/vnd.databricks.v1+cell": {
     "cellMetadata": {
      "byteLimit": 2048000,
      "implicitDf": true,
      "rowLimit": 10000
     },
     "inputWidgets": {},
     "nuid": "82b47479-c9f6-4ed0-931a-a441fd3f6177",
     "showTitle": false,
     "title": ""
    }
   },
   "outputs": [
    {
     "output_type": "display_data",
     "data": {
      "text/html": [
       "<style scoped>\n",
       "  .table-result-container {\n",
       "    max-height: 300px;\n",
       "    overflow: auto;\n",
       "  }\n",
       "  table, th, td {\n",
       "    border: 1px solid black;\n",
       "    border-collapse: collapse;\n",
       "  }\n",
       "  th, td {\n",
       "    padding: 5px;\n",
       "  }\n",
       "  th {\n",
       "    text-align: left;\n",
       "  }\n",
       "</style><div class='table-result-container'><table class='table-result'><thead style='background-color: white'><tr><th>trace_id</th><th>ts</th><th>current_node</th><th>current_id</th><th>cost_of_alignment</th><th>previous_events</th><th>trace</th><th>execution_sequence</th><th>event_level</th><th>current_event_level</th><th>current_node_level</th><th>rn</th></tr></thead><tbody><tr><td>trace_id_3</td><td>2024-06-07T04:12:12.544+0000</td><td>-</td><td>root</td><td>5</td><td>AXBAC</td><td>AXBAC</td><td>>>>>>>>>>></td><td>5</td><td>5</td><td>0</td><td>1</td></tr><tr><td>trace_id_3</td><td>2024-06-07T04:12:12.544+0000</td><td>A</td><td>root-A</td><td>4</td><td>AXBAC</td><td>AXBAC</td><td>A>>>>>>>></td><td>5</td><td>5</td><td>1</td><td>1</td></tr><tr><td>trace_id_3</td><td>2024-06-07T04:12:12.544+0000</td><td>B</td><td>root-A-B</td><td>3</td><td>AXBAC</td><td>AXBAC</td><td>A>>B>>>></td><td>5</td><td>5</td><td>2</td><td>1</td></tr><tr><td>trace_id_3</td><td>2024-06-07T04:12:12.544+0000</td><td>C</td><td>root-A-B-D-C</td><td>3</td><td>AXBAC</td><td>AXBA>>C</td><td>A>>B>>DC</td><td>5</td><td>5</td><td>4</td><td>1</td></tr><tr><td>trace_id_3</td><td>2024-06-07T04:12:12.544+0000</td><td>X</td><td>root-A-B-X</td><td>4</td><td>AXBAC</td><td>A>>XBAC</td><td>ABX>>>>>></td><td>5</td><td>5</td><td>3</td><td>1</td></tr></tbody></table></div>"
      ]
     },
     "metadata": {
      "application/vnd.databricks.v1+output": {
       "addedWidgets": {},
       "aggData": [],
       "aggError": "",
       "aggOverflow": false,
       "aggSchema": [],
       "aggSeriesLimitReached": false,
       "aggType": "",
       "arguments": {},
       "columnCustomDisplayInfos": {},
       "data": [
        [
         "trace_id_3",
         "2024-06-07T04:12:12.544+0000",
         "-",
         "root",
         5,
         "AXBAC",
         "AXBAC",
         ">>>>>>>>>>",
         5,
         5,
         0,
         1
        ],
        [
         "trace_id_3",
         "2024-06-07T04:12:12.544+0000",
         "A",
         "root-A",
         4,
         "AXBAC",
         "AXBAC",
         "A>>>>>>>>",
         5,
         5,
         1,
         1
        ],
        [
         "trace_id_3",
         "2024-06-07T04:12:12.544+0000",
         "B",
         "root-A-B",
         3,
         "AXBAC",
         "AXBAC",
         "A>>B>>>>",
         5,
         5,
         2,
         1
        ],
        [
         "trace_id_3",
         "2024-06-07T04:12:12.544+0000",
         "C",
         "root-A-B-D-C",
         3,
         "AXBAC",
         "AXBA>>C",
         "A>>B>>DC",
         5,
         5,
         4,
         1
        ],
        [
         "trace_id_3",
         "2024-06-07T04:12:12.544+0000",
         "X",
         "root-A-B-X",
         4,
         "AXBAC",
         "A>>XBAC",
         "ABX>>>>>>",
         5,
         5,
         3,
         1
        ]
       ],
       "datasetInfos": [],
       "dbfsResultPath": null,
       "isJsonSchema": true,
       "metadata": {},
       "overflow": false,
       "plotOptions": {
        "customPlotOptions": {},
        "displayType": "table",
        "pivotAggregation": null,
        "pivotColumns": null,
        "xColumns": null,
        "yColumns": null
       },
       "removedWidgets": [],
       "schema": [
        {
         "metadata": "{}",
         "name": "trace_id",
         "type": "\"string\""
        },
        {
         "metadata": "{}",
         "name": "ts",
         "type": "\"timestamp\""
        },
        {
         "metadata": "{}",
         "name": "current_node",
         "type": "\"string\""
        },
        {
         "metadata": "{}",
         "name": "current_id",
         "type": "\"string\""
        },
        {
         "metadata": "{}",
         "name": "cost_of_alignment",
         "type": "\"integer\""
        },
        {
         "metadata": "{}",
         "name": "previous_events",
         "type": "\"string\""
        },
        {
         "metadata": "{}",
         "name": "trace",
         "type": "\"string\""
        },
        {
         "metadata": "{}",
         "name": "execution_sequence",
         "type": "\"string\""
        },
        {
         "metadata": "{}",
         "name": "event_level",
         "type": "\"integer\""
        },
        {
         "metadata": "{}",
         "name": "current_event_level",
         "type": "\"integer\""
        },
        {
         "metadata": "{}",
         "name": "current_node_level",
         "type": "\"integer\""
        },
        {
         "metadata": "{}",
         "name": "rn",
         "type": "\"integer\""
        }
       ],
       "type": "table"
      }
     },
     "output_type": "display_data"
    }
   ],
   "source": [
    "%sql\n",
    "select * from latest_state where trace_id = \"trace_id_3\""
   ]
  },
  {
   "cell_type": "code",
   "execution_count": 0,
   "metadata": {
    "application/vnd.databricks.v1+cell": {
     "cellMetadata": {
      "byteLimit": 2048000,
      "implicitDf": true,
      "rowLimit": 10000
     },
     "inputWidgets": {},
     "nuid": "da6730f3-0274-472e-8f11-428485e651d1",
     "showTitle": false,
     "title": ""
    }
   },
   "outputs": [
    {
     "output_type": "display_data",
     "data": {
      "text/html": [
       "<style scoped>\n",
       "  .table-result-container {\n",
       "    max-height: 300px;\n",
       "    overflow: auto;\n",
       "  }\n",
       "  table, th, td {\n",
       "    border: 1px solid black;\n",
       "    border-collapse: collapse;\n",
       "  }\n",
       "  th, td {\n",
       "    padding: 5px;\n",
       "  }\n",
       "  th {\n",
       "    text-align: left;\n",
       "  }\n",
       "</style><div class='table-result-container'><table class='table-result'><thead style='background-color: white'><tr><th>trace_id</th><th>current_id</th><th>previous_events</th><th>trace</th><th>execution_sequence</th><th>cost_of_alignment</th></tr></thead><tbody><tr><td>trace_id_3</td><td>root-A-B</td><td>AXBAC</td><td>AXBAC</td><td>A>>B>>>></td><td>3</td></tr><tr><td>trace_id_3</td><td>root-A-B-D-C</td><td>AXBAC</td><td>AXBA>>C</td><td>A>>B>>DC</td><td>3</td></tr></tbody></table></div>"
      ]
     },
     "metadata": {
      "application/vnd.databricks.v1+output": {
       "addedWidgets": {},
       "aggData": [],
       "aggError": "",
       "aggOverflow": false,
       "aggSchema": [],
       "aggSeriesLimitReached": false,
       "aggType": "",
       "arguments": {},
       "columnCustomDisplayInfos": {},
       "data": [
        [
         "trace_id_3",
         "root-A-B",
         "AXBAC",
         "AXBAC",
         "A>>B>>>>",
         3
        ],
        [
         "trace_id_3",
         "root-A-B-D-C",
         "AXBAC",
         "AXBA>>C",
         "A>>B>>DC",
         3
        ]
       ],
       "datasetInfos": [],
       "dbfsResultPath": null,
       "isJsonSchema": true,
       "metadata": {},
       "overflow": false,
       "plotOptions": {
        "customPlotOptions": {},
        "displayType": "table",
        "pivotAggregation": null,
        "pivotColumns": null,
        "xColumns": null,
        "yColumns": null
       },
       "removedWidgets": [],
       "schema": [
        {
         "metadata": "{}",
         "name": "trace_id",
         "type": "\"string\""
        },
        {
         "metadata": "{}",
         "name": "current_id",
         "type": "\"string\""
        },
        {
         "metadata": "{}",
         "name": "previous_events",
         "type": "\"string\""
        },
        {
         "metadata": "{}",
         "name": "trace",
         "type": "\"string\""
        },
        {
         "metadata": "{}",
         "name": "execution_sequence",
         "type": "\"string\""
        },
        {
         "metadata": "{}",
         "name": "cost_of_alignment",
         "type": "\"integer\""
        }
       ],
       "type": "table"
      }
     },
     "output_type": "display_data"
    }
   ],
   "source": [
    "%sql\n",
    "SELECT trace_id,current_id,previous_events,trace,execution_sequence,cost_of_alignment\n",
    "FROM latest_state\n",
    "WHERE (trace_id, cost_of_alignment) IN (\n",
    "    SELECT trace_id, MIN(cost_of_alignment)\n",
    "    FROM latest_state\n",
    "    GROUP BY trace_id\n",
    ") and trace_id = \"trace_id_3\";\n",
    "--- select the final optimal prefix alignments"
   ]
  }
 ],
 "metadata": {
  "application/vnd.databricks.v1+notebook": {
   "dashboards": [],
   "environmentMetadata": null,
   "language": "python",
   "notebookMetadata": {
    "mostRecentlyExecutedCommandWithImplicitDF": {
     "commandId": 3505211662008828,
     "dataframes": [
      "_sqldf"
     ]
    },
    "pythonIndentUnit": 4
   },
   "notebookName": "Dummy Data Notebook_cont",
   "widgets": {}
  }
 },
 "nbformat": 4,
 "nbformat_minor": 0
}
